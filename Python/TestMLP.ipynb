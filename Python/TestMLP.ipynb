{
 "cells": [
  {
   "cell_type": "code",
   "execution_count": 1,
   "metadata": {},
   "outputs": [],
   "source": [
    "import numpy as np\n",
    "import pandas as pd\n",
    "\n",
    "import torch\n",
    "import torch.nn as nn\n",
    "import torch.optim as optim\n",
    "\n",
    "from sklearn.model_selection import train_test_split\n",
    "\n",
    "device = \"cuda\" if torch.cuda.is_available() else \"mps\""
   ]
  },
  {
   "attachments": {},
   "cell_type": "markdown",
   "metadata": {},
   "source": [
    "## CALCULATE METRICS"
   ]
  },
  {
   "cell_type": "code",
   "execution_count": 2,
   "metadata": {},
   "outputs": [],
   "source": [
    "def getConfusionMatrix(labels: np.ndarray, predictions: np.ndarray):\n",
    "    confusion = dict()\n",
    "    confusion[\"TP\"] = np.sum(labels & predictions)\n",
    "    confusion[\"TN\"] = np.sum(~labels & ~predictions)\n",
    "    confusion[\"FP\"] = np.sum(~labels & predictions)\n",
    "    confusion[\"FN\"] = np.sum(labels & ~predictions)\n",
    "    return confusion\n",
    "\n",
    "def getMetrics(confusion):\n",
    "    metrics = dict()\n",
    "    metrics[\"accuracy\"] = (confusion[\"TP\"] + confusion[\"TN\"]) / (confusion[\"TP\"] + confusion[\"TN\"] + confusion[\"FP\"] + confusion[\"FN\"])\n",
    "    metrics[\"precision\"] = confusion[\"TP\"] / (confusion[\"TP\"] + confusion[\"FP\"])\n",
    "    metrics[\"recall\"] = confusion[\"TP\"] / (confusion[\"TP\"] + confusion[\"FN\"])\n",
    "    metrics[\"f1\"] = 2 * (metrics[\"precision\"] * metrics[\"recall\"]) / (metrics[\"precision\"] + metrics[\"recall\"])\n",
    "    return metrics\n",
    "\n",
    "def printMetrics(confusion):\n",
    "    print(\"Accuracy: \\t\", confusion[\"accuracy\"])\n",
    "    print(\"Precision: \\t\", confusion[\"precision\"])\n",
    "    print(\"Recall: \\t\", confusion[\"recall\"])\n",
    "    print(\"F1: \\t\\t\", confusion[\"f1\"])"
   ]
  },
  {
   "attachments": {},
   "cell_type": "markdown",
   "metadata": {},
   "source": [
    "## LOAD DATA"
   ]
  },
  {
   "cell_type": "code",
   "execution_count": 3,
   "metadata": {},
   "outputs": [
    {
     "name": "stdout",
     "output_type": "stream",
     "text": [
      "Train labels:\n",
      "True     234113\n",
      "False    223950\n",
      "Name: AT_RISK, dtype: int64\n",
      "\n",
      "Test labels:\n",
      "True     77751\n",
      "False    74937\n",
      "Name: AT_RISK, dtype: int64\n"
     ]
    }
   ],
   "source": [
    "covid = pd.read_parquet('covidClean.parquet')\n",
    "\n",
    "toRemove = [\"PATIENT_ID\", \"USMER\", \"SYMPTOMS_DATE\",\n",
    "            \"MEDICAL_UNIT\", \"ADMISSION_DATE\", \"PATIENT_TYPE\",\n",
    "            \"DEATH_DATE\", \"ORIGIN_COUNTRY\"]\n",
    "covid = covid.drop(columns = toRemove)\n",
    "covid = covid.drop(columns= [\"DIED\", \"INTUBED\", \"ICU\"])\n",
    "\n",
    "\n",
    "covid.AGE = covid.AGE.astype('float32')\n",
    "\n",
    "labels = covid.AT_RISK\n",
    "covid = covid.drop(columns = [\"AT_RISK\"])\n",
    "\n",
    "trainX, testX, trainY, testY = train_test_split(covid, labels, test_size = 0.25)\n",
    "\n",
    "print(\"Train labels:\")\n",
    "print(trainY.value_counts())\n",
    "print(\"\\nTest labels:\")\n",
    "print(testY.value_counts())"
   ]
  },
  {
   "cell_type": "code",
   "execution_count": 4,
   "metadata": {},
   "outputs": [],
   "source": [
    "trainX  = np.array(trainX, dtype=np.float32)\n",
    "trainX  = torch.tensor(trainX).to(device)\n",
    "\n",
    "testX   = np.array(testX, dtype=np.float32)\n",
    "testX   = torch.tensor(testX).to(device)\n",
    "\n",
    "trainY  = torch.tensor(trainY.values, dtype=torch.float32).reshape(-1, 1).to(device)"
   ]
  },
  {
   "cell_type": "code",
   "execution_count": 5,
   "metadata": {},
   "outputs": [
    {
     "name": "stdout",
     "output_type": "stream",
     "text": [
      "MLP(\n",
      "  (input): Linear(in_features=14, out_features=32, bias=True)\n",
      "  (actInput): ReLU()\n",
      "  (hidden1): Linear(in_features=32, out_features=32, bias=True)\n",
      "  (act1): ReLU()\n",
      "  (hidden2): Linear(in_features=32, out_features=32, bias=True)\n",
      "  (act2): ReLU()\n",
      "  (output): Linear(in_features=32, out_features=1, bias=True)\n",
      "  (actOutput): Sigmoid()\n",
      ")\n"
     ]
    }
   ],
   "source": [
    "class MLP(nn.Module):\n",
    "    def __init__(self):\n",
    "        super().__init__()\n",
    "        self.input = nn.Linear(14, 32)\n",
    "        self.actInput = nn.ReLU()\n",
    "        self.hidden1 = nn.Linear(32, 32)\n",
    "        self.act1 = nn.ReLU()\n",
    "        self.hidden2 = nn.Linear(32, 32)\n",
    "        self.act2 = nn.ReLU()\n",
    "        self.output = nn.Linear(32, 1)\n",
    "        self.actOutput = nn.Sigmoid()\n",
    "        \n",
    "    def forward(self, x):\n",
    "        x = self.actInput(self.input(x))\n",
    "        x = self.act1(self.hidden1(x))\n",
    "        x = self.act2(self.hidden2(x))\n",
    "        x = self.actOutput(self.output(x))\n",
    "        return x\n",
    "    \n",
    "mlp = MLP().to(device)\n",
    "print(mlp)"
   ]
  },
  {
   "cell_type": "code",
   "execution_count": 6,
   "metadata": {},
   "outputs": [],
   "source": [
    "lossFN = nn.BCELoss().to(device)\n",
    "optimizer = optim.Adam(mlp.parameters(), lr=0.001)"
   ]
  },
  {
   "cell_type": "code",
   "execution_count": 8,
   "metadata": {},
   "outputs": [
    {
     "name": "stdout",
     "output_type": "stream",
     "text": [
      "Epoch 1 loss: 0.6093527674674988, accuracy: 0.6666666666666666\n",
      "Epoch 2 loss: 0.6131796836853027, accuracy: 0.6666666666666666\n",
      "Epoch 3 loss: 0.6226098537445068, accuracy: 0.6666666666666666\n",
      "Epoch 4 loss: 0.6191810965538025, accuracy: 0.6666666666666666\n",
      "Epoch 5 loss: 0.6159239411354065, accuracy: 0.6666666666666666\n",
      "Epoch 6 loss: 0.6168416738510132, accuracy: 0.6666666666666666\n"
     ]
    },
    {
     "ename": "KeyboardInterrupt",
     "evalue": "",
     "output_type": "error",
     "traceback": [
      "\u001b[0;31m---------------------------------------------------------------------------\u001b[0m",
      "\u001b[0;31mKeyboardInterrupt\u001b[0m                         Traceback (most recent call last)",
      "Cell \u001b[0;32mIn[8], line 13\u001b[0m\n\u001b[1;32m     11\u001b[0m           optimizer\u001b[39m.\u001b[39mzero_grad()\n\u001b[1;32m     12\u001b[0m           loss\u001b[39m.\u001b[39mbackward()\n\u001b[0;32m---> 13\u001b[0m           optimizer\u001b[39m.\u001b[39;49mstep()\n\u001b[1;32m     14\u001b[0m      \u001b[39mprint\u001b[39m(\u001b[39mf\u001b[39m\u001b[39m\"\u001b[39m\u001b[39mEpoch \u001b[39m\u001b[39m{\u001b[39;00mepoch\u001b[39m+\u001b[39m\u001b[39m1\u001b[39m\u001b[39m}\u001b[39;00m\u001b[39m loss: \u001b[39m\u001b[39m{\u001b[39;00mloss\u001b[39m}\u001b[39;00m\u001b[39m, accuracy: \u001b[39m\u001b[39m{\u001b[39;00m((pred\u001b[39m \u001b[39m\u001b[39m>\u001b[39m\u001b[39m \u001b[39m\u001b[39m0.5\u001b[39m)\u001b[39m \u001b[39m\u001b[39m==\u001b[39m\u001b[39m \u001b[39my)\u001b[39m.\u001b[39msum()\u001b[39m.\u001b[39mitem()\u001b[39m \u001b[39m\u001b[39m/\u001b[39m\u001b[39m \u001b[39m\u001b[39mlen\u001b[39m(y)\u001b[39m}\u001b[39;00m\u001b[39m\"\u001b[39m)\n\u001b[1;32m     15\u001b[0m torch\u001b[39m.\u001b[39msave(mlp, \u001b[39m\"\u001b[39m\u001b[39mmlp.pt\u001b[39m\u001b[39m\"\u001b[39m)\n",
      "File \u001b[0;32m~/.local/share/virtualenvs/Python-PUM3iCJl/lib/python3.10/site-packages/torch/optim/optimizer.py:140\u001b[0m, in \u001b[0;36mOptimizer._hook_for_profile.<locals>.profile_hook_step.<locals>.wrapper\u001b[0;34m(*args, **kwargs)\u001b[0m\n\u001b[1;32m    138\u001b[0m profile_name \u001b[39m=\u001b[39m \u001b[39m\"\u001b[39m\u001b[39mOptimizer.step#\u001b[39m\u001b[39m{}\u001b[39;00m\u001b[39m.step\u001b[39m\u001b[39m\"\u001b[39m\u001b[39m.\u001b[39mformat(obj\u001b[39m.\u001b[39m\u001b[39m__class__\u001b[39m\u001b[39m.\u001b[39m\u001b[39m__name__\u001b[39m)\n\u001b[1;32m    139\u001b[0m \u001b[39mwith\u001b[39;00m torch\u001b[39m.\u001b[39mautograd\u001b[39m.\u001b[39mprofiler\u001b[39m.\u001b[39mrecord_function(profile_name):\n\u001b[0;32m--> 140\u001b[0m     out \u001b[39m=\u001b[39m func(\u001b[39m*\u001b[39;49margs, \u001b[39m*\u001b[39;49m\u001b[39m*\u001b[39;49mkwargs)\n\u001b[1;32m    141\u001b[0m     obj\u001b[39m.\u001b[39m_optimizer_step_code()\n\u001b[1;32m    142\u001b[0m     \u001b[39mreturn\u001b[39;00m out\n",
      "File \u001b[0;32m~/.local/share/virtualenvs/Python-PUM3iCJl/lib/python3.10/site-packages/torch/optim/optimizer.py:23\u001b[0m, in \u001b[0;36m_use_grad_for_differentiable.<locals>._use_grad\u001b[0;34m(self, *args, **kwargs)\u001b[0m\n\u001b[1;32m     21\u001b[0m \u001b[39mtry\u001b[39;00m:\n\u001b[1;32m     22\u001b[0m     torch\u001b[39m.\u001b[39mset_grad_enabled(\u001b[39mself\u001b[39m\u001b[39m.\u001b[39mdefaults[\u001b[39m'\u001b[39m\u001b[39mdifferentiable\u001b[39m\u001b[39m'\u001b[39m])\n\u001b[0;32m---> 23\u001b[0m     ret \u001b[39m=\u001b[39m func(\u001b[39mself\u001b[39;49m, \u001b[39m*\u001b[39;49margs, \u001b[39m*\u001b[39;49m\u001b[39m*\u001b[39;49mkwargs)\n\u001b[1;32m     24\u001b[0m \u001b[39mfinally\u001b[39;00m:\n\u001b[1;32m     25\u001b[0m     torch\u001b[39m.\u001b[39mset_grad_enabled(prev_grad)\n",
      "File \u001b[0;32m~/.local/share/virtualenvs/Python-PUM3iCJl/lib/python3.10/site-packages/torch/optim/adam.py:234\u001b[0m, in \u001b[0;36mAdam.step\u001b[0;34m(self, closure, grad_scaler)\u001b[0m\n\u001b[1;32m    231\u001b[0m                 \u001b[39mraise\u001b[39;00m \u001b[39mRuntimeError\u001b[39;00m(\u001b[39m'\u001b[39m\u001b[39m`requires_grad` is not supported for `step` in differentiable mode\u001b[39m\u001b[39m'\u001b[39m)\n\u001b[1;32m    232\u001b[0m             state_steps\u001b[39m.\u001b[39mappend(state[\u001b[39m'\u001b[39m\u001b[39mstep\u001b[39m\u001b[39m'\u001b[39m])\n\u001b[0;32m--> 234\u001b[0m     adam(params_with_grad,\n\u001b[1;32m    235\u001b[0m          grads,\n\u001b[1;32m    236\u001b[0m          exp_avgs,\n\u001b[1;32m    237\u001b[0m          exp_avg_sqs,\n\u001b[1;32m    238\u001b[0m          max_exp_avg_sqs,\n\u001b[1;32m    239\u001b[0m          state_steps,\n\u001b[1;32m    240\u001b[0m          amsgrad\u001b[39m=\u001b[39;49mgroup[\u001b[39m'\u001b[39;49m\u001b[39mamsgrad\u001b[39;49m\u001b[39m'\u001b[39;49m],\n\u001b[1;32m    241\u001b[0m          beta1\u001b[39m=\u001b[39;49mbeta1,\n\u001b[1;32m    242\u001b[0m          beta2\u001b[39m=\u001b[39;49mbeta2,\n\u001b[1;32m    243\u001b[0m          lr\u001b[39m=\u001b[39;49mgroup[\u001b[39m'\u001b[39;49m\u001b[39mlr\u001b[39;49m\u001b[39m'\u001b[39;49m],\n\u001b[1;32m    244\u001b[0m          weight_decay\u001b[39m=\u001b[39;49mgroup[\u001b[39m'\u001b[39;49m\u001b[39mweight_decay\u001b[39;49m\u001b[39m'\u001b[39;49m],\n\u001b[1;32m    245\u001b[0m          eps\u001b[39m=\u001b[39;49mgroup[\u001b[39m'\u001b[39;49m\u001b[39meps\u001b[39;49m\u001b[39m'\u001b[39;49m],\n\u001b[1;32m    246\u001b[0m          maximize\u001b[39m=\u001b[39;49mgroup[\u001b[39m'\u001b[39;49m\u001b[39mmaximize\u001b[39;49m\u001b[39m'\u001b[39;49m],\n\u001b[1;32m    247\u001b[0m          foreach\u001b[39m=\u001b[39;49mgroup[\u001b[39m'\u001b[39;49m\u001b[39mforeach\u001b[39;49m\u001b[39m'\u001b[39;49m],\n\u001b[1;32m    248\u001b[0m          capturable\u001b[39m=\u001b[39;49mgroup[\u001b[39m'\u001b[39;49m\u001b[39mcapturable\u001b[39;49m\u001b[39m'\u001b[39;49m],\n\u001b[1;32m    249\u001b[0m          differentiable\u001b[39m=\u001b[39;49mgroup[\u001b[39m'\u001b[39;49m\u001b[39mdifferentiable\u001b[39;49m\u001b[39m'\u001b[39;49m],\n\u001b[1;32m    250\u001b[0m          fused\u001b[39m=\u001b[39;49mgroup[\u001b[39m'\u001b[39;49m\u001b[39mfused\u001b[39;49m\u001b[39m'\u001b[39;49m],\n\u001b[1;32m    251\u001b[0m          grad_scale\u001b[39m=\u001b[39;49mgrad_scale,\n\u001b[1;32m    252\u001b[0m          found_inf\u001b[39m=\u001b[39;49mfound_inf)\n\u001b[1;32m    254\u001b[0m \u001b[39mreturn\u001b[39;00m loss\n",
      "File \u001b[0;32m~/.local/share/virtualenvs/Python-PUM3iCJl/lib/python3.10/site-packages/torch/optim/adam.py:300\u001b[0m, in \u001b[0;36madam\u001b[0;34m(params, grads, exp_avgs, exp_avg_sqs, max_exp_avg_sqs, state_steps, foreach, capturable, differentiable, fused, grad_scale, found_inf, amsgrad, beta1, beta2, lr, weight_decay, eps, maximize)\u001b[0m\n\u001b[1;32m    297\u001b[0m \u001b[39melse\u001b[39;00m:\n\u001b[1;32m    298\u001b[0m     func \u001b[39m=\u001b[39m _single_tensor_adam\n\u001b[0;32m--> 300\u001b[0m func(params,\n\u001b[1;32m    301\u001b[0m      grads,\n\u001b[1;32m    302\u001b[0m      exp_avgs,\n\u001b[1;32m    303\u001b[0m      exp_avg_sqs,\n\u001b[1;32m    304\u001b[0m      max_exp_avg_sqs,\n\u001b[1;32m    305\u001b[0m      state_steps,\n\u001b[1;32m    306\u001b[0m      amsgrad\u001b[39m=\u001b[39;49mamsgrad,\n\u001b[1;32m    307\u001b[0m      beta1\u001b[39m=\u001b[39;49mbeta1,\n\u001b[1;32m    308\u001b[0m      beta2\u001b[39m=\u001b[39;49mbeta2,\n\u001b[1;32m    309\u001b[0m      lr\u001b[39m=\u001b[39;49mlr,\n\u001b[1;32m    310\u001b[0m      weight_decay\u001b[39m=\u001b[39;49mweight_decay,\n\u001b[1;32m    311\u001b[0m      eps\u001b[39m=\u001b[39;49meps,\n\u001b[1;32m    312\u001b[0m      maximize\u001b[39m=\u001b[39;49mmaximize,\n\u001b[1;32m    313\u001b[0m      capturable\u001b[39m=\u001b[39;49mcapturable,\n\u001b[1;32m    314\u001b[0m      differentiable\u001b[39m=\u001b[39;49mdifferentiable,\n\u001b[1;32m    315\u001b[0m      grad_scale\u001b[39m=\u001b[39;49mgrad_scale,\n\u001b[1;32m    316\u001b[0m      found_inf\u001b[39m=\u001b[39;49mfound_inf)\n",
      "File \u001b[0;32m~/.local/share/virtualenvs/Python-PUM3iCJl/lib/python3.10/site-packages/torch/optim/adam.py:364\u001b[0m, in \u001b[0;36m_single_tensor_adam\u001b[0;34m(params, grads, exp_avgs, exp_avg_sqs, max_exp_avg_sqs, state_steps, grad_scale, found_inf, amsgrad, beta1, beta2, lr, weight_decay, eps, maximize, capturable, differentiable)\u001b[0m\n\u001b[1;32m    362\u001b[0m \u001b[39m# Decay the first and second moment running average coefficient\u001b[39;00m\n\u001b[1;32m    363\u001b[0m exp_avg\u001b[39m.\u001b[39mmul_(beta1)\u001b[39m.\u001b[39madd_(grad, alpha\u001b[39m=\u001b[39m\u001b[39m1\u001b[39m \u001b[39m-\u001b[39m beta1)\n\u001b[0;32m--> 364\u001b[0m exp_avg_sq\u001b[39m.\u001b[39;49mmul_(beta2)\u001b[39m.\u001b[39maddcmul_(grad, grad\u001b[39m.\u001b[39mconj(), value\u001b[39m=\u001b[39m\u001b[39m1\u001b[39m \u001b[39m-\u001b[39m beta2)\n\u001b[1;32m    366\u001b[0m \u001b[39mif\u001b[39;00m capturable \u001b[39mor\u001b[39;00m differentiable:\n\u001b[1;32m    367\u001b[0m     step \u001b[39m=\u001b[39m step_t\n",
      "\u001b[0;31mKeyboardInterrupt\u001b[0m: "
     ]
    }
   ],
   "source": [
    "n_epoch = 25\n",
    "batchSize = 32\n",
    "\n",
    "for epoch in range(n_epoch):\n",
    "     loss = None\n",
    "     for i in range(0, len(trainX), batchSize):\n",
    "          x = trainX[i:i+batchSize]\n",
    "          y = trainY[i:i+batchSize]\n",
    "          pred = mlp(x)\n",
    "          loss = lossFN(pred, y)\n",
    "          optimizer.zero_grad()\n",
    "          loss.backward()\n",
    "          optimizer.step()\n",
    "     print(f\"Epoch {epoch+1} loss: {loss}, accuracy: {((pred > 0.5) == y).sum().item() / len(y)}\")\n",
    "torch.save(mlp, \"mlp.pt\")"
   ]
  },
  {
   "cell_type": "code",
   "execution_count": null,
   "metadata": {},
   "outputs": [],
   "source": [
    "mlp = torch.load(\"mlp.pt\")"
   ]
  },
  {
   "cell_type": "code",
   "execution_count": null,
   "metadata": {},
   "outputs": [
    {
     "name": "stdout",
     "output_type": "stream",
     "text": [
      "MLP Train: \n",
      "Accuracy: \t 0.6466293937733456\n",
      "Precision: \t 0.6390760532090913\n",
      "Recall: \t 0.7081607795371498\n",
      "F1: \t\t 0.671847124460735\n",
      "MLP Test: \n",
      "Accuracy: \t 0.6453355862936183\n",
      "Precision: \t 0.6369703267521072\n",
      "Recall: \t 0.7083809499351558\n",
      "F1: \t\t 0.6707804169275758\n"
     ]
    }
   ],
   "source": [
    "from sklearn.metrics import accuracy_score, precision_score, recall_score, f1_score\n",
    "\n",
    "\n",
    "predTrain = mlp(trainX)\n",
    "predTest = mlp(testX)\n",
    "\n",
    "resTrain = (predTrain > 0.5)\n",
    "resTest = (predTest > 0.5)\n",
    "\n",
    "print(\"MLP Train: \")\n",
    "print(\"Accuracy: \\t\", accuracy_score(trainY.cpu().detach().numpy().astype(bool), resTrain.cpu().detach().numpy()))\n",
    "print(\"Precision: \\t\", precision_score(trainY.cpu().detach().numpy().astype(bool), resTrain.cpu().detach().numpy()))\n",
    "print(\"Recall: \\t\", recall_score(trainY.cpu().detach().numpy().astype(bool), resTrain.cpu().detach().numpy()))\n",
    "print(\"F1: \\t\\t\", f1_score(trainY.cpu().detach().numpy().astype(bool), resTrain.cpu().detach().numpy()))\n",
    "\n",
    "print(\"MLP Test: \")\n",
    "print(\"Accuracy: \\t\", accuracy_score(testY, resTest.cpu().detach().numpy()))\n",
    "print(\"Precision: \\t\", precision_score(testY, resTest.cpu().detach().numpy()))\n",
    "print(\"Recall: \\t\", recall_score(testY, resTest.cpu().detach().numpy()))\n",
    "print(\"F1: \\t\\t\", f1_score(testY, resTest.cpu().detach().numpy()))"
   ]
  }
 ],
 "metadata": {
  "kernelspec": {
   "display_name": "Python-gFgYUTMY",
   "language": "python",
   "name": "python3"
  },
  "language_info": {
   "codemirror_mode": {
    "name": "ipython",
    "version": 3
   },
   "file_extension": ".py",
   "mimetype": "text/x-python",
   "name": "python",
   "nbconvert_exporter": "python",
   "pygments_lexer": "ipython3",
   "version": "3.10.9"
  },
  "orig_nbformat": 4
 },
 "nbformat": 4,
 "nbformat_minor": 2
}
