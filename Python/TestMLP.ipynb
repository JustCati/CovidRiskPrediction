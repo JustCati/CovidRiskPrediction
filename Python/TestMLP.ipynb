{
 "cells": [
  {
   "cell_type": "code",
   "execution_count": null,
   "metadata": {},
   "outputs": [],
   "source": [
    "import numpy as np\n",
    "import pandas as pd\n",
    "\n",
    "import torch\n",
    "import torch.nn as nn\n",
    "import torch.optim as optim\n",
    "\n",
    "\n",
    "device = torch.device(\"cuda\") if torch.cuda.is_available() else torch.device(\"mps\")"
   ]
  },
  {
   "attachments": {},
   "cell_type": "markdown",
   "metadata": {},
   "source": [
    "## LOAD DATA"
   ]
  },
  {
   "cell_type": "code",
   "execution_count": null,
   "metadata": {},
   "outputs": [],
   "source": [
    "covid = pd.read_parquet('covidClean.parquet')\n",
    "\n",
    "toRemove = [\"PATIENT_ID\", \"USMER\", \"SYMPTOMS_DATE\",\n",
    "            \"MEDICAL_UNIT\", \"ADMISSION_DATE\", \"PATIENT_TYPE\",\n",
    "            \"DEATH_DATE\", \"ORIGIN_COUNTRY\"]\n",
    "covid = covid.drop(columns = toRemove)\n",
    "covid = covid.drop(columns= [\"DIED\", \"INTUBED\", \"ICU\"])\n",
    "\n",
    "\n",
    "covid.AGE = covid.AGE.astype('float32')\n",
    "print(covid.info())"
   ]
  },
  {
   "cell_type": "code",
   "execution_count": null,
   "metadata": {},
   "outputs": [],
   "source": [
    "arr = np.array(covid.drop(columns = [\"AT_RISK\"]).values, dtype=np.float32)\n",
    "\n",
    "X = torch.tensor(arr).to(device)\n",
    "Y = torch.tensor(covid[\"AT_RISK\"].values, dtype=torch.float32).reshape(-1, 1).to(device)"
   ]
  },
  {
   "cell_type": "code",
   "execution_count": null,
   "metadata": {},
   "outputs": [],
   "source": [
    "\n",
    "class MLP(nn.Module):\n",
    "    def __init__(self):\n",
    "        super().__init__()\n",
    "        self.input = nn.Linear(14, 32)\n",
    "        self.actInput = nn.ReLU()\n",
    "        self.hidden1 = nn.Linear(32, 32)\n",
    "        self.act1 = nn.ReLU()\n",
    "        self.output = nn.Linear(32, 1)\n",
    "        self.actOutput = nn.Sigmoid()\n",
    "        \n",
    "    def forward(self, x):\n",
    "        x = self.actInput(self.input(x))\n",
    "        x = self.act1(self.hidden1(x))\n",
    "        x = self.actOutput(self.output(x))\n",
    "        return x\n",
    "    \n",
    "mlp = MLP().to(device)\n",
    "print(mlp)"
   ]
  },
  {
   "cell_type": "code",
   "execution_count": null,
   "metadata": {},
   "outputs": [],
   "source": [
    "lossFN = nn.BCELoss().to(device)\n",
    "optimizer = optim.Adam(mlp.parameters(), lr=0.001)"
   ]
  },
  {
   "cell_type": "code",
   "execution_count": null,
   "metadata": {},
   "outputs": [],
   "source": [
    "n_epoch = 100\n",
    "batchSize = 32\n",
    "\n",
    "for epoch in range(n_epoch):\n",
    "     loss = None\n",
    "     for i in range(0, len(X), batchSize):\n",
    "          x = X[i:i+batchSize]\n",
    "          y = Y[i:i+batchSize]\n",
    "          pred = mlp(x)\n",
    "          loss = lossFN(pred, y)\n",
    "          optimizer.zero_grad()\n",
    "          loss.backward()\n",
    "          optimizer.step()\n",
    "     print(f\"Epoch {epoch} loss: {loss}\")"
   ]
  }
 ],
 "metadata": {
  "kernelspec": {
   "display_name": "Python-gFgYUTMY",
   "language": "python",
   "name": "python3"
  },
  "language_info": {
   "codemirror_mode": {
    "name": "ipython",
    "version": 3
   },
   "file_extension": ".py",
   "mimetype": "text/x-python",
   "name": "python",
   "nbconvert_exporter": "python",
   "pygments_lexer": "ipython3",
   "version": "3.10.10"
  },
  "orig_nbformat": 4
 },
 "nbformat": 4,
 "nbformat_minor": 2
}
