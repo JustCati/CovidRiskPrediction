{
 "cells": [
  {
   "cell_type": "code",
   "execution_count": 1,
   "metadata": {},
   "outputs": [],
   "source": [
    "import joblib\n",
    "import numpy as np\n",
    "import pandas as pd\n",
    "import matplotlib.pyplot as plt\n",
    "from sklearn.tree import plot_tree\n",
    "from sklearn.tree import DecisionTreeClassifier\n",
    "from sklearn.model_selection import train_test_split"
   ]
  },
  {
   "cell_type": "code",
   "execution_count": 2,
   "metadata": {},
   "outputs": [],
   "source": [
    "def getConfusionMatrix(labels: np.ndarray, predictions: np.ndarray):\n",
    "    confusion = dict()\n",
    "    confusion[\"TP\"] = np.sum(labels & predictions)\n",
    "    confusion[\"TN\"] = np.sum(~labels & ~predictions)\n",
    "    confusion[\"FP\"] = np.sum(~labels & predictions)\n",
    "    confusion[\"FN\"] = np.sum(labels & ~predictions)\n",
    "    return confusion\n",
    "\n",
    "def getMetrics(confusion):\n",
    "    metrics = dict()\n",
    "    metrics[\"accuracy\"] = (confusion[\"TP\"] + confusion[\"TN\"]) / (confusion[\"TP\"] + confusion[\"TN\"] + confusion[\"FP\"] + confusion[\"FN\"])\n",
    "    metrics[\"precision\"] = confusion[\"TP\"] / (confusion[\"TP\"] + confusion[\"FP\"])\n",
    "    metrics[\"recall\"] = confusion[\"TP\"] / (confusion[\"TP\"] + confusion[\"FN\"])\n",
    "    metrics[\"f1\"] = 2 * (metrics[\"precision\"] * metrics[\"recall\"]) / (metrics[\"precision\"] + metrics[\"recall\"])\n",
    "    return metrics\n",
    "\n",
    "def printMetrics(confusion):\n",
    "    print(\"Accuracy: \\t\", confusion[\"accuracy\"])\n",
    "    print(\"Precision: \\t\", confusion[\"precision\"])\n",
    "    print(\"Recall: \\t\", confusion[\"recall\"])\n",
    "    print(\"F1: \\t\\t\", confusion[\"f1\"])"
   ]
  },
  {
   "cell_type": "code",
   "execution_count": 3,
   "metadata": {},
   "outputs": [],
   "source": [
    "covid = pd.read_parquet('covidClean.parquet')\n",
    "\n",
    "toRemove = [\"PATIENT_ID\", \"USMER\", \"SYMPTOMS_DATE\",\n",
    "            \"MEDICAL_UNIT\", \"ADMISSION_DATE\", \"PATIENT_TYPE\",\n",
    "            \"DEATH_DATE\", \"ORIGIN_COUNTRY\"]\n",
    "covid = covid.drop(columns = toRemove)\n",
    "covid = covid.drop(columns= [\"DIED\", \"INTUBED\", \"ICU\"])\n",
    "\n",
    "trainingSet, testSet = train_test_split(covid, test_size = 0.25)\n",
    "\n",
    "trainingY = np.array(trainingSet[\"AT_RISK\"])\n",
    "trainingX = trainingSet.drop(columns = [\"AT_RISK\"])\n",
    "\n",
    "testY = np.array(testSet[\"AT_RISK\"])\n",
    "testX = testSet.drop(columns = [\"AT_RISK\"])"
   ]
  },
  {
   "cell_type": "code",
   "execution_count": 6,
   "metadata": {},
   "outputs": [
    {
     "ename": "KeyboardInterrupt",
     "evalue": "",
     "output_type": "error",
     "traceback": [
      "\u001b[0;31m---------------------------------------------------------------------------\u001b[0m",
      "\u001b[0;31mKeyboardInterrupt\u001b[0m                         Traceback (most recent call last)",
      "Cell \u001b[0;32mIn[6], line 4\u001b[0m\n\u001b[1;32m      1\u001b[0m cart \u001b[39m=\u001b[39m DecisionTreeClassifier()\n\u001b[1;32m      3\u001b[0m cart\u001b[39m.\u001b[39mfit(trainingX, trainingY)\n\u001b[0;32m----> 4\u001b[0m plot_tree(cart, filled\u001b[39m=\u001b[39;49m\u001b[39mTrue\u001b[39;49;00m)\n\u001b[1;32m      5\u001b[0m plt\u001b[39m.\u001b[39mshow()\n\u001b[1;32m      7\u001b[0m predictions \u001b[39m=\u001b[39m cart\u001b[39m.\u001b[39mpredict(testX)\n",
      "File \u001b[0;32m~/.local/share/virtualenvs/Python-gFgYUTMY/lib/python3.10/site-packages/sklearn/tree/_export.py:194\u001b[0m, in \u001b[0;36mplot_tree\u001b[0;34m(decision_tree, max_depth, feature_names, class_names, label, filled, impurity, node_ids, proportion, rounded, precision, ax, fontsize)\u001b[0m\n\u001b[1;32m    179\u001b[0m check_is_fitted(decision_tree)\n\u001b[1;32m    181\u001b[0m exporter \u001b[39m=\u001b[39m _MPLTreeExporter(\n\u001b[1;32m    182\u001b[0m     max_depth\u001b[39m=\u001b[39mmax_depth,\n\u001b[1;32m    183\u001b[0m     feature_names\u001b[39m=\u001b[39mfeature_names,\n\u001b[0;32m   (...)\u001b[0m\n\u001b[1;32m    192\u001b[0m     fontsize\u001b[39m=\u001b[39mfontsize,\n\u001b[1;32m    193\u001b[0m )\n\u001b[0;32m--> 194\u001b[0m \u001b[39mreturn\u001b[39;00m exporter\u001b[39m.\u001b[39;49mexport(decision_tree, ax\u001b[39m=\u001b[39;49max)\n",
      "File \u001b[0;32m~/.local/share/virtualenvs/Python-gFgYUTMY/lib/python3.10/site-packages/sklearn/tree/_export.py:668\u001b[0m, in \u001b[0;36m_MPLTreeExporter.export\u001b[0;34m(self, decision_tree, ax)\u001b[0m\n\u001b[1;32m    666\u001b[0m scale_x \u001b[39m=\u001b[39m ax_width \u001b[39m/\u001b[39m max_x\n\u001b[1;32m    667\u001b[0m scale_y \u001b[39m=\u001b[39m ax_height \u001b[39m/\u001b[39m max_y\n\u001b[0;32m--> 668\u001b[0m \u001b[39mself\u001b[39;49m\u001b[39m.\u001b[39;49mrecurse(draw_tree, decision_tree\u001b[39m.\u001b[39;49mtree_, ax, max_x, max_y)\n\u001b[1;32m    670\u001b[0m anns \u001b[39m=\u001b[39m [ann \u001b[39mfor\u001b[39;00m ann \u001b[39min\u001b[39;00m ax\u001b[39m.\u001b[39mget_children() \u001b[39mif\u001b[39;00m \u001b[39misinstance\u001b[39m(ann, Annotation)]\n\u001b[1;32m    672\u001b[0m \u001b[39m# update sizes of all bboxes\u001b[39;00m\n",
      "File \u001b[0;32m~/.local/share/virtualenvs/Python-gFgYUTMY/lib/python3.10/site-packages/sklearn/tree/_export.py:729\u001b[0m, in \u001b[0;36m_MPLTreeExporter.recurse\u001b[0;34m(self, node, tree, ax, max_x, max_y, depth)\u001b[0m\n\u001b[1;32m    727\u001b[0m         ax\u001b[39m.\u001b[39mannotate(node\u001b[39m.\u001b[39mtree\u001b[39m.\u001b[39mlabel, xy_parent, xy, \u001b[39m*\u001b[39m\u001b[39m*\u001b[39mkwargs)\n\u001b[1;32m    728\u001b[0m     \u001b[39mfor\u001b[39;00m child \u001b[39min\u001b[39;00m node\u001b[39m.\u001b[39mchildren:\n\u001b[0;32m--> 729\u001b[0m         \u001b[39mself\u001b[39;49m\u001b[39m.\u001b[39;49mrecurse(child, tree, ax, max_x, max_y, depth\u001b[39m=\u001b[39;49mdepth \u001b[39m+\u001b[39;49m \u001b[39m1\u001b[39;49m)\n\u001b[1;32m    731\u001b[0m \u001b[39melse\u001b[39;00m:\n\u001b[1;32m    732\u001b[0m     xy_parent \u001b[39m=\u001b[39m (\n\u001b[1;32m    733\u001b[0m         (node\u001b[39m.\u001b[39mparent\u001b[39m.\u001b[39mx \u001b[39m+\u001b[39m \u001b[39m0.5\u001b[39m) \u001b[39m/\u001b[39m max_x,\n\u001b[1;32m    734\u001b[0m         (max_y \u001b[39m-\u001b[39m node\u001b[39m.\u001b[39mparent\u001b[39m.\u001b[39my \u001b[39m-\u001b[39m \u001b[39m0.5\u001b[39m) \u001b[39m/\u001b[39m max_y,\n\u001b[1;32m    735\u001b[0m     )\n",
      "File \u001b[0;32m~/.local/share/virtualenvs/Python-gFgYUTMY/lib/python3.10/site-packages/sklearn/tree/_export.py:729\u001b[0m, in \u001b[0;36m_MPLTreeExporter.recurse\u001b[0;34m(self, node, tree, ax, max_x, max_y, depth)\u001b[0m\n\u001b[1;32m    727\u001b[0m         ax\u001b[39m.\u001b[39mannotate(node\u001b[39m.\u001b[39mtree\u001b[39m.\u001b[39mlabel, xy_parent, xy, \u001b[39m*\u001b[39m\u001b[39m*\u001b[39mkwargs)\n\u001b[1;32m    728\u001b[0m     \u001b[39mfor\u001b[39;00m child \u001b[39min\u001b[39;00m node\u001b[39m.\u001b[39mchildren:\n\u001b[0;32m--> 729\u001b[0m         \u001b[39mself\u001b[39;49m\u001b[39m.\u001b[39;49mrecurse(child, tree, ax, max_x, max_y, depth\u001b[39m=\u001b[39;49mdepth \u001b[39m+\u001b[39;49m \u001b[39m1\u001b[39;49m)\n\u001b[1;32m    731\u001b[0m \u001b[39melse\u001b[39;00m:\n\u001b[1;32m    732\u001b[0m     xy_parent \u001b[39m=\u001b[39m (\n\u001b[1;32m    733\u001b[0m         (node\u001b[39m.\u001b[39mparent\u001b[39m.\u001b[39mx \u001b[39m+\u001b[39m \u001b[39m0.5\u001b[39m) \u001b[39m/\u001b[39m max_x,\n\u001b[1;32m    734\u001b[0m         (max_y \u001b[39m-\u001b[39m node\u001b[39m.\u001b[39mparent\u001b[39m.\u001b[39my \u001b[39m-\u001b[39m \u001b[39m0.5\u001b[39m) \u001b[39m/\u001b[39m max_y,\n\u001b[1;32m    735\u001b[0m     )\n",
      "    \u001b[0;31m[... skipping similar frames: _MPLTreeExporter.recurse at line 729 (11 times)]\u001b[0m\n",
      "File \u001b[0;32m~/.local/share/virtualenvs/Python-gFgYUTMY/lib/python3.10/site-packages/sklearn/tree/_export.py:729\u001b[0m, in \u001b[0;36m_MPLTreeExporter.recurse\u001b[0;34m(self, node, tree, ax, max_x, max_y, depth)\u001b[0m\n\u001b[1;32m    727\u001b[0m         ax\u001b[39m.\u001b[39mannotate(node\u001b[39m.\u001b[39mtree\u001b[39m.\u001b[39mlabel, xy_parent, xy, \u001b[39m*\u001b[39m\u001b[39m*\u001b[39mkwargs)\n\u001b[1;32m    728\u001b[0m     \u001b[39mfor\u001b[39;00m child \u001b[39min\u001b[39;00m node\u001b[39m.\u001b[39mchildren:\n\u001b[0;32m--> 729\u001b[0m         \u001b[39mself\u001b[39;49m\u001b[39m.\u001b[39;49mrecurse(child, tree, ax, max_x, max_y, depth\u001b[39m=\u001b[39;49mdepth \u001b[39m+\u001b[39;49m \u001b[39m1\u001b[39;49m)\n\u001b[1;32m    731\u001b[0m \u001b[39melse\u001b[39;00m:\n\u001b[1;32m    732\u001b[0m     xy_parent \u001b[39m=\u001b[39m (\n\u001b[1;32m    733\u001b[0m         (node\u001b[39m.\u001b[39mparent\u001b[39m.\u001b[39mx \u001b[39m+\u001b[39m \u001b[39m0.5\u001b[39m) \u001b[39m/\u001b[39m max_x,\n\u001b[1;32m    734\u001b[0m         (max_y \u001b[39m-\u001b[39m node\u001b[39m.\u001b[39mparent\u001b[39m.\u001b[39my \u001b[39m-\u001b[39m \u001b[39m0.5\u001b[39m) \u001b[39m/\u001b[39m max_y,\n\u001b[1;32m    735\u001b[0m     )\n",
      "File \u001b[0;32m~/.local/share/virtualenvs/Python-gFgYUTMY/lib/python3.10/site-packages/sklearn/tree/_export.py:727\u001b[0m, in \u001b[0;36m_MPLTreeExporter.recurse\u001b[0;34m(self, node, tree, ax, max_x, max_y, depth)\u001b[0m\n\u001b[1;32m    722\u001b[0m \u001b[39melse\u001b[39;00m:\n\u001b[1;32m    723\u001b[0m     xy_parent \u001b[39m=\u001b[39m (\n\u001b[1;32m    724\u001b[0m         (node\u001b[39m.\u001b[39mparent\u001b[39m.\u001b[39mx \u001b[39m+\u001b[39m \u001b[39m0.5\u001b[39m) \u001b[39m/\u001b[39m max_x,\n\u001b[1;32m    725\u001b[0m         (max_y \u001b[39m-\u001b[39m node\u001b[39m.\u001b[39mparent\u001b[39m.\u001b[39my \u001b[39m-\u001b[39m \u001b[39m0.5\u001b[39m) \u001b[39m/\u001b[39m max_y,\n\u001b[1;32m    726\u001b[0m     )\n\u001b[0;32m--> 727\u001b[0m     ax\u001b[39m.\u001b[39;49mannotate(node\u001b[39m.\u001b[39;49mtree\u001b[39m.\u001b[39;49mlabel, xy_parent, xy, \u001b[39m*\u001b[39;49m\u001b[39m*\u001b[39;49mkwargs)\n\u001b[1;32m    728\u001b[0m \u001b[39mfor\u001b[39;00m child \u001b[39min\u001b[39;00m node\u001b[39m.\u001b[39mchildren:\n\u001b[1;32m    729\u001b[0m     \u001b[39mself\u001b[39m\u001b[39m.\u001b[39mrecurse(child, tree, ax, max_x, max_y, depth\u001b[39m=\u001b[39mdepth \u001b[39m+\u001b[39m \u001b[39m1\u001b[39m)\n",
      "File \u001b[0;32m~/.local/share/virtualenvs/Python-gFgYUTMY/lib/python3.10/site-packages/matplotlib/axes/_axes.py:699\u001b[0m, in \u001b[0;36mAxes.annotate\u001b[0;34m(self, text, xy, xytext, xycoords, textcoords, arrowprops, annotation_clip, **kwargs)\u001b[0m\n\u001b[1;32m    694\u001b[0m \u001b[39m@_docstring\u001b[39m\u001b[39m.\u001b[39mdedent_interpd\n\u001b[1;32m    695\u001b[0m \u001b[39mdef\u001b[39;00m \u001b[39mannotate\u001b[39m(\u001b[39mself\u001b[39m, text, xy, xytext\u001b[39m=\u001b[39m\u001b[39mNone\u001b[39;00m, xycoords\u001b[39m=\u001b[39m\u001b[39m'\u001b[39m\u001b[39mdata\u001b[39m\u001b[39m'\u001b[39m, textcoords\u001b[39m=\u001b[39m\u001b[39mNone\u001b[39;00m,\n\u001b[1;32m    696\u001b[0m              arrowprops\u001b[39m=\u001b[39m\u001b[39mNone\u001b[39;00m, annotation_clip\u001b[39m=\u001b[39m\u001b[39mNone\u001b[39;00m, \u001b[39m*\u001b[39m\u001b[39m*\u001b[39mkwargs):\n\u001b[1;32m    697\u001b[0m     \u001b[39m# Signature must match Annotation. This is verified in\u001b[39;00m\n\u001b[1;32m    698\u001b[0m     \u001b[39m# test_annotate_signature().\u001b[39;00m\n\u001b[0;32m--> 699\u001b[0m     a \u001b[39m=\u001b[39m mtext\u001b[39m.\u001b[39;49mAnnotation(text, xy, xytext\u001b[39m=\u001b[39;49mxytext, xycoords\u001b[39m=\u001b[39;49mxycoords,\n\u001b[1;32m    700\u001b[0m                          textcoords\u001b[39m=\u001b[39;49mtextcoords, arrowprops\u001b[39m=\u001b[39;49marrowprops,\n\u001b[1;32m    701\u001b[0m                          annotation_clip\u001b[39m=\u001b[39;49mannotation_clip, \u001b[39m*\u001b[39;49m\u001b[39m*\u001b[39;49mkwargs)\n\u001b[1;32m    702\u001b[0m     a\u001b[39m.\u001b[39mset_transform(mtransforms\u001b[39m.\u001b[39mIdentityTransform())\n\u001b[1;32m    703\u001b[0m     \u001b[39mif\u001b[39;00m \u001b[39m'\u001b[39m\u001b[39mclip_on\u001b[39m\u001b[39m'\u001b[39m \u001b[39min\u001b[39;00m kwargs:\n",
      "File \u001b[0;32m~/.local/share/virtualenvs/Python-gFgYUTMY/lib/python3.10/site-packages/matplotlib/text.py:1880\u001b[0m, in \u001b[0;36mAnnotation.__init__\u001b[0;34m(self, text, xy, xytext, xycoords, textcoords, arrowprops, annotation_clip, **kwargs)\u001b[0m\n\u001b[1;32m   1877\u001b[0m         \u001b[39mfor\u001b[39;00m key \u001b[39min\u001b[39;00m [\n\u001b[1;32m   1878\u001b[0m                 \u001b[39m'\u001b[39m\u001b[39mwidth\u001b[39m\u001b[39m'\u001b[39m, \u001b[39m'\u001b[39m\u001b[39mheadwidth\u001b[39m\u001b[39m'\u001b[39m, \u001b[39m'\u001b[39m\u001b[39mheadlength\u001b[39m\u001b[39m'\u001b[39m, \u001b[39m'\u001b[39m\u001b[39mshrink\u001b[39m\u001b[39m'\u001b[39m, \u001b[39m'\u001b[39m\u001b[39mfrac\u001b[39m\u001b[39m'\u001b[39m]:\n\u001b[1;32m   1879\u001b[0m             arrowprops\u001b[39m.\u001b[39mpop(key, \u001b[39mNone\u001b[39;00m)\n\u001b[0;32m-> 1880\u001b[0m     \u001b[39mself\u001b[39m\u001b[39m.\u001b[39marrow_patch \u001b[39m=\u001b[39m FancyArrowPatch((\u001b[39m0\u001b[39;49m, \u001b[39m0\u001b[39;49m), (\u001b[39m1\u001b[39;49m, \u001b[39m1\u001b[39;49m), \u001b[39m*\u001b[39;49m\u001b[39m*\u001b[39;49marrowprops)\n\u001b[1;32m   1881\u001b[0m \u001b[39melse\u001b[39;00m:\n\u001b[1;32m   1882\u001b[0m     \u001b[39mself\u001b[39m\u001b[39m.\u001b[39marrow_patch \u001b[39m=\u001b[39m \u001b[39mNone\u001b[39;00m\n",
      "File \u001b[0;32m~/.local/share/virtualenvs/Python-gFgYUTMY/lib/python3.10/site-packages/matplotlib/_api/deprecation.py:454\u001b[0m, in \u001b[0;36mmake_keyword_only.<locals>.wrapper\u001b[0;34m(*args, **kwargs)\u001b[0m\n\u001b[1;32m    448\u001b[0m \u001b[39mif\u001b[39;00m \u001b[39mlen\u001b[39m(args) \u001b[39m>\u001b[39m name_idx:\n\u001b[1;32m    449\u001b[0m     warn_deprecated(\n\u001b[1;32m    450\u001b[0m         since, message\u001b[39m=\u001b[39m\u001b[39m\"\u001b[39m\u001b[39mPassing the \u001b[39m\u001b[39m%(name)s\u001b[39;00m\u001b[39m \u001b[39m\u001b[39m%(obj_type)s\u001b[39;00m\u001b[39m \u001b[39m\u001b[39m\"\u001b[39m\n\u001b[1;32m    451\u001b[0m         \u001b[39m\"\u001b[39m\u001b[39mpositionally is deprecated since Matplotlib \u001b[39m\u001b[39m%(since)s\u001b[39;00m\u001b[39m; the \u001b[39m\u001b[39m\"\u001b[39m\n\u001b[1;32m    452\u001b[0m         \u001b[39m\"\u001b[39m\u001b[39mparameter will become keyword-only \u001b[39m\u001b[39m%(removal)s\u001b[39;00m\u001b[39m.\u001b[39m\u001b[39m\"\u001b[39m,\n\u001b[1;32m    453\u001b[0m         name\u001b[39m=\u001b[39mname, obj_type\u001b[39m=\u001b[39m\u001b[39mf\u001b[39m\u001b[39m\"\u001b[39m\u001b[39mparameter of \u001b[39m\u001b[39m{\u001b[39;00mfunc\u001b[39m.\u001b[39m\u001b[39m__name__\u001b[39m\u001b[39m}\u001b[39;00m\u001b[39m()\u001b[39m\u001b[39m\"\u001b[39m)\n\u001b[0;32m--> 454\u001b[0m \u001b[39mreturn\u001b[39;00m func(\u001b[39m*\u001b[39;49margs, \u001b[39m*\u001b[39;49m\u001b[39m*\u001b[39;49mkwargs)\n",
      "File \u001b[0;32m~/.local/share/virtualenvs/Python-gFgYUTMY/lib/python3.10/site-packages/matplotlib/patches.py:4120\u001b[0m, in \u001b[0;36mFancyArrowPatch.__init__\u001b[0;34m(self, posA, posB, path, arrowstyle, connectionstyle, patchA, patchB, shrinkA, shrinkB, mutation_scale, mutation_aspect, **kwargs)\u001b[0m\n\u001b[1;32m   4117\u001b[0m kwargs\u001b[39m.\u001b[39msetdefault(\u001b[39m\"\u001b[39m\u001b[39mjoinstyle\u001b[39m\u001b[39m\"\u001b[39m, JoinStyle\u001b[39m.\u001b[39mround)\n\u001b[1;32m   4118\u001b[0m kwargs\u001b[39m.\u001b[39msetdefault(\u001b[39m\"\u001b[39m\u001b[39mcapstyle\u001b[39m\u001b[39m\"\u001b[39m, CapStyle\u001b[39m.\u001b[39mround)\n\u001b[0;32m-> 4120\u001b[0m \u001b[39msuper\u001b[39;49m()\u001b[39m.\u001b[39;49m\u001b[39m__init__\u001b[39;49m(\u001b[39m*\u001b[39;49m\u001b[39m*\u001b[39;49mkwargs)\n\u001b[1;32m   4122\u001b[0m \u001b[39mif\u001b[39;00m posA \u001b[39mis\u001b[39;00m \u001b[39mnot\u001b[39;00m \u001b[39mNone\u001b[39;00m \u001b[39mand\u001b[39;00m posB \u001b[39mis\u001b[39;00m \u001b[39mnot\u001b[39;00m \u001b[39mNone\u001b[39;00m \u001b[39mand\u001b[39;00m path \u001b[39mis\u001b[39;00m \u001b[39mNone\u001b[39;00m:\n\u001b[1;32m   4123\u001b[0m     \u001b[39mself\u001b[39m\u001b[39m.\u001b[39m_posA_posB \u001b[39m=\u001b[39m [posA, posB]\n",
      "File \u001b[0;32m~/.local/share/virtualenvs/Python-gFgYUTMY/lib/python3.10/site-packages/matplotlib/_api/deprecation.py:454\u001b[0m, in \u001b[0;36mmake_keyword_only.<locals>.wrapper\u001b[0;34m(*args, **kwargs)\u001b[0m\n\u001b[1;32m    448\u001b[0m \u001b[39mif\u001b[39;00m \u001b[39mlen\u001b[39m(args) \u001b[39m>\u001b[39m name_idx:\n\u001b[1;32m    449\u001b[0m     warn_deprecated(\n\u001b[1;32m    450\u001b[0m         since, message\u001b[39m=\u001b[39m\u001b[39m\"\u001b[39m\u001b[39mPassing the \u001b[39m\u001b[39m%(name)s\u001b[39;00m\u001b[39m \u001b[39m\u001b[39m%(obj_type)s\u001b[39;00m\u001b[39m \u001b[39m\u001b[39m\"\u001b[39m\n\u001b[1;32m    451\u001b[0m         \u001b[39m\"\u001b[39m\u001b[39mpositionally is deprecated since Matplotlib \u001b[39m\u001b[39m%(since)s\u001b[39;00m\u001b[39m; the \u001b[39m\u001b[39m\"\u001b[39m\n\u001b[1;32m    452\u001b[0m         \u001b[39m\"\u001b[39m\u001b[39mparameter will become keyword-only \u001b[39m\u001b[39m%(removal)s\u001b[39;00m\u001b[39m.\u001b[39m\u001b[39m\"\u001b[39m,\n\u001b[1;32m    453\u001b[0m         name\u001b[39m=\u001b[39mname, obj_type\u001b[39m=\u001b[39m\u001b[39mf\u001b[39m\u001b[39m\"\u001b[39m\u001b[39mparameter of \u001b[39m\u001b[39m{\u001b[39;00mfunc\u001b[39m.\u001b[39m\u001b[39m__name__\u001b[39m\u001b[39m}\u001b[39;00m\u001b[39m()\u001b[39m\u001b[39m\"\u001b[39m)\n\u001b[0;32m--> 454\u001b[0m \u001b[39mreturn\u001b[39;00m func(\u001b[39m*\u001b[39;49margs, \u001b[39m*\u001b[39;49m\u001b[39m*\u001b[39;49mkwargs)\n",
      "File \u001b[0;32m~/.local/share/virtualenvs/Python-gFgYUTMY/lib/python3.10/site-packages/matplotlib/patches.py:85\u001b[0m, in \u001b[0;36mPatch.__init__\u001b[0;34m(self, edgecolor, facecolor, color, linewidth, linestyle, antialiased, hatch, fill, capstyle, joinstyle, **kwargs)\u001b[0m\n\u001b[1;32m     83\u001b[0m \u001b[39melse\u001b[39;00m:\n\u001b[1;32m     84\u001b[0m     \u001b[39mself\u001b[39m\u001b[39m.\u001b[39mset_edgecolor(edgecolor)\n\u001b[0;32m---> 85\u001b[0m     \u001b[39mself\u001b[39;49m\u001b[39m.\u001b[39;49mset_facecolor(facecolor)\n\u001b[1;32m     87\u001b[0m \u001b[39mself\u001b[39m\u001b[39m.\u001b[39m_linewidth \u001b[39m=\u001b[39m \u001b[39m0\u001b[39m\n\u001b[1;32m     88\u001b[0m \u001b[39mself\u001b[39m\u001b[39m.\u001b[39m_unscaled_dash_pattern \u001b[39m=\u001b[39m (\u001b[39m0\u001b[39m, \u001b[39mNone\u001b[39;00m)  \u001b[39m# offset, dash\u001b[39;00m\n",
      "File \u001b[0;32m~/.local/share/virtualenvs/Python-gFgYUTMY/lib/python3.10/site-packages/matplotlib/patches.py:359\u001b[0m, in \u001b[0;36mPatch.set_facecolor\u001b[0;34m(self, color)\u001b[0m\n\u001b[1;32m    351\u001b[0m \u001b[39m\u001b[39m\u001b[39m\"\"\"\u001b[39;00m\n\u001b[1;32m    352\u001b[0m \u001b[39mSet the patch face color.\u001b[39;00m\n\u001b[1;32m    353\u001b[0m \n\u001b[0;32m   (...)\u001b[0m\n\u001b[1;32m    356\u001b[0m \u001b[39mcolor : color or None\u001b[39;00m\n\u001b[1;32m    357\u001b[0m \u001b[39m\"\"\"\u001b[39;00m\n\u001b[1;32m    358\u001b[0m \u001b[39mself\u001b[39m\u001b[39m.\u001b[39m_original_facecolor \u001b[39m=\u001b[39m color\n\u001b[0;32m--> 359\u001b[0m \u001b[39mself\u001b[39;49m\u001b[39m.\u001b[39;49m_set_facecolor(color)\n",
      "File \u001b[0;32m~/.local/share/virtualenvs/Python-gFgYUTMY/lib/python3.10/site-packages/matplotlib/patches.py:347\u001b[0m, in \u001b[0;36mPatch._set_facecolor\u001b[0;34m(self, color)\u001b[0m\n\u001b[1;32m    345\u001b[0m     color \u001b[39m=\u001b[39m mpl\u001b[39m.\u001b[39mrcParams[\u001b[39m'\u001b[39m\u001b[39mpatch.facecolor\u001b[39m\u001b[39m'\u001b[39m]\n\u001b[1;32m    346\u001b[0m alpha \u001b[39m=\u001b[39m \u001b[39mself\u001b[39m\u001b[39m.\u001b[39m_alpha \u001b[39mif\u001b[39;00m \u001b[39mself\u001b[39m\u001b[39m.\u001b[39m_fill \u001b[39melse\u001b[39;00m \u001b[39m0\u001b[39m\n\u001b[0;32m--> 347\u001b[0m \u001b[39mself\u001b[39m\u001b[39m.\u001b[39m_facecolor \u001b[39m=\u001b[39m colors\u001b[39m.\u001b[39;49mto_rgba(color, alpha)\n\u001b[1;32m    348\u001b[0m \u001b[39mself\u001b[39m\u001b[39m.\u001b[39mstale \u001b[39m=\u001b[39m \u001b[39mTrue\u001b[39;00m\n",
      "File \u001b[0;32m~/.local/share/virtualenvs/Python-gFgYUTMY/lib/python3.10/site-packages/matplotlib/colors.py:292\u001b[0m, in \u001b[0;36mto_rgba\u001b[0;34m(c, alpha)\u001b[0m\n\u001b[1;32m    290\u001b[0m \u001b[39mif\u001b[39;00m _is_nth_color(c):\n\u001b[1;32m    291\u001b[0m     prop_cycler \u001b[39m=\u001b[39m mpl\u001b[39m.\u001b[39mrcParams[\u001b[39m'\u001b[39m\u001b[39maxes.prop_cycle\u001b[39m\u001b[39m'\u001b[39m]\n\u001b[0;32m--> 292\u001b[0m     colors \u001b[39m=\u001b[39m prop_cycler\u001b[39m.\u001b[39;49mby_key()\u001b[39m.\u001b[39mget(\u001b[39m'\u001b[39m\u001b[39mcolor\u001b[39m\u001b[39m'\u001b[39m, [\u001b[39m'\u001b[39m\u001b[39mk\u001b[39m\u001b[39m'\u001b[39m])\n\u001b[1;32m    293\u001b[0m     c \u001b[39m=\u001b[39m colors[\u001b[39mint\u001b[39m(c[\u001b[39m1\u001b[39m:]) \u001b[39m%\u001b[39m \u001b[39mlen\u001b[39m(colors)]\n\u001b[1;32m    294\u001b[0m \u001b[39mtry\u001b[39;00m:\n",
      "File \u001b[0;32m~/.local/share/virtualenvs/Python-gFgYUTMY/lib/python3.10/site-packages/cycler.py:390\u001b[0m, in \u001b[0;36mCycler.by_key\u001b[0;34m(self)\u001b[0m\n\u001b[1;32m    388\u001b[0m \u001b[39mfor\u001b[39;00m d \u001b[39min\u001b[39;00m \u001b[39mself\u001b[39m:\n\u001b[1;32m    389\u001b[0m     \u001b[39mfor\u001b[39;00m k \u001b[39min\u001b[39;00m keys:\n\u001b[0;32m--> 390\u001b[0m         out[k]\u001b[39m.\u001b[39;49mappend(d[k])\n\u001b[1;32m    391\u001b[0m \u001b[39mreturn\u001b[39;00m out\n",
      "\u001b[0;31mKeyboardInterrupt\u001b[0m: "
     ]
    }
   ],
   "source": [
    "cart = DecisionTreeClassifier()\n",
    "\n",
    "cart.fit(trainingX, trainingY)\n",
    "plot_tree(cart, filled=True)\n",
    "plt.show()\n",
    "\n",
    "predictions = cart.predict(testX)\n",
    "\n",
    "metric = getMetrics(getConfusionMatrix(testY, predictions))\n",
    "print(\"CART metrics:\")\n",
    "printMetrics(metric)\n"
   ]
  },
  {
   "attachments": {},
   "cell_type": "markdown",
   "metadata": {},
   "source": [
    "## Pruning"
   ]
  },
  {
   "cell_type": "code",
   "execution_count": null,
   "metadata": {},
   "outputs": [],
   "source": [
    "path = cart.cost_complexity_pruning_path(trainingX, trainingY)\n",
    "ccp_alphas = path.ccp_alphas\n",
    "ccp_alphas = ccp_alphas[ccp_alphas >= 0]\n",
    "\n",
    "dimChunks = 1000\n",
    "chunks = np.split(ccp_alphas, [i for i in range(dimChunks, len(ccp_alphas), dimChunks)])\n",
    "\n",
    "accuracyTest, accuracyTrain = [], []\n",
    "def getTreePerf(ccp_alpha):\n",
    "    clf = DecisionTreeClassifier(ccp_alpha=ccp_alpha)\n",
    "    clf.fit(trainingX, trainingY)\n",
    "    predictionTrain = clf.predict(trainingX)\n",
    "    predictionTest = clf.predict(testX)\n",
    "    accuracyTrain.append(getMetrics(getConfusionMatrix(trainingY, predictionTrain))[\"accuracy\"])\n",
    "    accuracyTest.append(getMetrics(getConfusionMatrix(testY, predictionTest))[\"accuracy\"])\n",
    "    return\n",
    "\n",
    "for chunk in chunks:\n",
    "    joblib.Parallel(n_jobs=-1, verbose=10)(joblib.delayed(getTreePerf)(ccp_alpha) for ccp_alpha in chunk)\n",
    "\n",
    "plt.figure(figsize=(10, 5))\n",
    "plt.plot(ccp_alphas, accuracyTrain, marker='o', label=\"train\", drawstyle=\"steps-post\")\n",
    "plt.plot(ccp_alphas, accuracyTest, marker='o', label=\"test\", drawstyle=\"steps-post\")\n",
    "plt.xlabel(\"alpha\")\n",
    "plt.ylabel(\"accuracy\")\n",
    "plt.legend()\n",
    "plt.show()"
   ]
  }
 ],
 "metadata": {
  "kernelspec": {
   "display_name": "Python-gFgYUTMY",
   "language": "python",
   "name": "python3"
  },
  "language_info": {
   "codemirror_mode": {
    "name": "ipython",
    "version": 3
   },
   "file_extension": ".py",
   "mimetype": "text/x-python",
   "name": "python",
   "nbconvert_exporter": "python",
   "pygments_lexer": "ipython3",
   "version": "3.10.10"
  },
  "orig_nbformat": 4
 },
 "nbformat": 4,
 "nbformat_minor": 2
}
