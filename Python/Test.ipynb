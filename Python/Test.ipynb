{
 "cells": [
  {
   "cell_type": "code",
   "execution_count": 1,
   "metadata": {},
   "outputs": [],
   "source": [
    "import math\n",
    "import numpy as np\n",
    "import pandas as pd\n",
    "import matplotlib.pyplot as plt\n",
    "from sklearn.linear_model import LogisticRegression\n",
    "from sklearn.model_selection import train_test_split\n",
    "from sklearn.naive_bayes import GaussianNB, MultinomialNB"
   ]
  },
  {
   "cell_type": "code",
   "execution_count": 2,
   "metadata": {},
   "outputs": [],
   "source": [
    "import cudf as cupd\n",
    "from cuml.neighbors import KNeighborsClassifier\n",
    "from cuml.svm import SVC as cuSVC, LinearSVC as cuLinearSVC\n",
    "from cuml import RandomForestClassifier as cuRandomForestClassifier\n",
    "from cuml.model_selection import train_test_split as cuTrainTestSplit"
   ]
  },
  {
   "attachments": {},
   "cell_type": "markdown",
   "metadata": {},
   "source": [
    "## CALCULATE METRICS"
   ]
  },
  {
   "cell_type": "code",
   "execution_count": 3,
   "metadata": {},
   "outputs": [],
   "source": [
    "def getConfusionMatrix(labels: np.ndarray, predictions: np.ndarray):\n",
    "    confusion = dict()\n",
    "    confusion[\"TP\"] = np.sum(labels & predictions)\n",
    "    confusion[\"TN\"] = np.sum(~labels & ~predictions)\n",
    "    confusion[\"FP\"] = np.sum(~labels & predictions)\n",
    "    confusion[\"FN\"] = np.sum(labels & ~predictions)\n",
    "    return confusion\n",
    "\n",
    "def getMetrics(confusion):\n",
    "    metrics = dict()\n",
    "    metrics[\"accuracy\"] = (confusion[\"TP\"] + confusion[\"TN\"]) / (confusion[\"TP\"] + confusion[\"TN\"] + confusion[\"FP\"] + confusion[\"FN\"])\n",
    "    metrics[\"precision\"] = confusion[\"TP\"] / (confusion[\"TP\"] + confusion[\"FP\"])\n",
    "    metrics[\"recall\"] = confusion[\"TP\"] / (confusion[\"TP\"] + confusion[\"FN\"])\n",
    "    metrics[\"f1\"] = 2 * (metrics[\"precision\"] * metrics[\"recall\"]) / (metrics[\"precision\"] + metrics[\"recall\"])\n",
    "    return metrics\n",
    "\n",
    "def printMetrics(confusion):\n",
    "    print(\"Accuracy: \\t\", confusion[\"accuracy\"])\n",
    "    print(\"Precision: \\t\", confusion[\"precision\"])\n",
    "    print(\"Recall: \\t\", confusion[\"recall\"])\n",
    "    print(\"F1: \\t\\t\", confusion[\"f1\"])\n",
    "    \n",
    "def printAll(confusionTrain, confusionTest):\n",
    "    print(\"Accuracy: \\t\", confusionTrain[\"accuracy\"], \"\\tAccuracy: \\t\", confusionTest[\"accuracy\"])\n",
    "    print(\"Precision: \\t\", confusionTrain[\"precision\"], \"\\tPrecision: \\t\", confusionTest[\"precision\"])\n",
    "    print(\"Recall: \\t\", confusionTrain[\"recall\"], \"\\tRecall: \\t\", confusionTest[\"recall\"])\n",
    "    print(\"F1: \\t\\t\", confusionTrain[\"f1\"], \"\\tF1: \\t\\t\", confusionTest[\"f1\"])"
   ]
  },
  {
   "attachments": {},
   "cell_type": "markdown",
   "metadata": {},
   "source": [
    "## Load Data CPU"
   ]
  },
  {
   "cell_type": "code",
   "execution_count": 5,
   "metadata": {},
   "outputs": [],
   "source": [
    "covid = pd.read_parquet('covidClean.parquet')\n",
    "\n",
    "toRemove = [\"PATIENT_ID\", \"USMER\", \"SYMPTOMS_DATE\",\n",
    "            \"MEDICAL_UNIT\", \"ADMISSION_DATE\", \"PATIENT_TYPE\",\n",
    "            \"DEATH_DATE\", \"ORIGIN_COUNTRY\", \"DAYS\"]\n",
    "covid = covid.drop(columns = toRemove)\n",
    "covid = covid.drop(columns= [\"DIED\", \"INTUBED\", \"ICU\"])"
   ]
  },
  {
   "cell_type": "code",
   "execution_count": 6,
   "metadata": {},
   "outputs": [],
   "source": [
    "labels = covid.AT_RISK\n",
    "covid = covid.drop(columns= [\"AT_RISK\"])\n",
    "\n",
    "trainingX, testX, trainingY, testY = train_test_split(covid, labels, test_size=0.25)"
   ]
  },
  {
   "attachments": {},
   "cell_type": "markdown",
   "metadata": {},
   "source": [
    "## Load Data GPU"
   ]
  },
  {
   "cell_type": "code",
   "execution_count": 4,
   "metadata": {
    "tags": []
   },
   "outputs": [],
   "source": [
    "cuCovid = cupd.read_parquet('covidClean.parquet')\n",
    "\n",
    "toRemove = [\"PATIENT_ID\", \"USMER\", \"SYMPTOMS_DATE\",\n",
    "        \"MEDICAL_UNIT\", \"ADMISSION_DATE\", \"PATIENT_TYPE\",\n",
    "        \"DEATH_DATE\", \"ORIGIN_COUNTRY\", \"DAYS\"]\n",
    "cuCovid = cuCovid.drop(columns = toRemove)\n",
    "cuCovid = cuCovid.drop(columns= [\"DIED\", \"INTUBED\", \"ICU\"])\n",
    "cuCovid = cuCovid.astype('float32')"
   ]
  },
  {
   "cell_type": "code",
   "execution_count": 5,
   "metadata": {},
   "outputs": [],
   "source": [
    "labels = cuCovid.AT_RISK\n",
    "covidX = cuCovid.drop(columns = [\"AT_RISK\"])\n",
    "\n",
    "cuTrainingX, cuTestX, cuTrainingY, cuTestY = cuTrainTestSplit(covidX, labels, test_size=0.25)\n",
    "\n",
    "cuTestY = cuTestY.to_pandas().to_numpy().astype(\"bool\")\n",
    "cuTrainY = cuTrainingY.to_pandas().to_numpy().astype(\"bool\")"
   ]
  },
  {
   "cell_type": "code",
   "execution_count": 6,
   "metadata": {},
   "outputs": [],
   "source": [
    "def convertToNumpy(df):\n",
    "    return df.to_pandas().to_numpy().astype(\"bool\")"
   ]
  },
  {
   "attachments": {},
   "cell_type": "markdown",
   "metadata": {},
   "source": [
    "## RANDOM FOREST"
   ]
  },
  {
   "cell_type": "code",
   "execution_count": 18,
   "metadata": {},
   "outputs": [
    {
     "name": "stdout",
     "output_type": "stream",
     "text": [
      "Heuristic: entropy\n",
      "Depth: 3\n",
      "Depth: 5\n",
      "Heuristic: gini\n",
      "Depth: 3\n",
      "Depth: 5\n",
      "Depth: 7\n",
      "Depth: 9\n",
      "Depth: 11\n"
     ]
    }
   ],
   "source": [
    "metric = \"recall\"\n",
    "depths = range(3, 20, 2)\n",
    "heuristics = [\"entropy\", \"gini\"]\n",
    "results = {\n",
    "    \"entropy\": dict(),\n",
    "    \"gini\": dict()\n",
    "}\n",
    "\n",
    "for heuristic in heuristics:\n",
    "    print(\"Heuristic:\", heuristic)\n",
    "    for depth in depths:\n",
    "        print(\"Depth:\", depth)\n",
    "        rf = cuRandomForestClassifier(n_estimators=100, max_depth=depth, split_criterion=heuristic)\n",
    "        rf.fit(cuTrainingX, cuTrainingY)\n",
    "\n",
    "        predictionsTest = rf.predict(cuTestX)\n",
    "        predictionsTest = convertToNumpy(predictionsTest)\n",
    "        metricsTest = getMetrics(getConfusionMatrix(cuTestY, predictionsTest))\n",
    "        results[heuristic][depth] = metricsTest[metric]\n",
    "        if(depth > 3 and results[heuristic][depth - 2] > metricsTest[metric]):\n",
    "            break"
   ]
  },
  {
   "cell_type": "code",
   "execution_count": 19,
   "metadata": {},
   "outputs": [
    {
     "name": "stdout",
     "output_type": "stream",
     "text": [
      "Heuristic: entropy\n",
      "Depth: 3 \t recall : 0.6556960664417896\n",
      "Depth: 5 \t recall : 0.6551316337638252\n",
      "Heuristic: gini\n",
      "Depth: 3 \t recall : 0.6530217306581017\n",
      "Depth: 5 \t recall : 0.6563545712327479\n",
      "Depth: 7 \t recall : 0.685449731894478\n",
      "Depth: 9 \t recall : 0.6893738828936582\n",
      "Depth: 11 \t recall : 0.6889438389485426\n"
     ]
    }
   ],
   "source": [
    "for (heuristic, values) in results.items():\n",
    "    print(\"Heuristic:\", heuristic)\n",
    "    for (depth, m) in values.items():\n",
    "        print(\"Depth:\", depth, \"\\t\", metric, \":\", m)"
   ]
  },
  {
   "cell_type": "code",
   "execution_count": 20,
   "metadata": {},
   "outputs": [
    {
     "name": "stdout",
     "output_type": "stream",
     "text": [
      "Gini:  9\n",
      "Entropy:  3\n"
     ]
    }
   ],
   "source": [
    "bestDepthEntropy = max(results[\"entropy\"], key=results[\"entropy\"].get)\n",
    "bestDepthGini = max(results[\"gini\"], key=results[\"gini\"].get)\n",
    "\n",
    "print(\"Gini: \", bestDepthGini)\n",
    "print(\"Entropy: \", bestDepthEntropy)"
   ]
  },
  {
   "cell_type": "code",
   "execution_count": 22,
   "metadata": {},
   "outputs": [
    {
     "name": "stdout",
     "output_type": "stream",
     "text": [
      "\n",
      "RF 'entropy' (GPU) on Training Set: \tRF 'entropy' (GPU) on Test Set:\n",
      "Accuracy: \t 0.6339004805359463 \tAccuracy: \t 0.6354708222366824\n",
      "Precision: \t 0.6272292002147075 \tPrecision: \t 0.6294719459173537\n",
      "Recall: \t 0.6550632343707956 \tRecall: \t 0.6556960664417896\n",
      "F1: \t\t 0.6408441280670389 \tF1: \t\t 0.6423164518634563\n",
      "\n",
      "RF 'gini' (GPU) on Training Set: \tRF 'gini' (GPU) on Test Set:\n",
      "Accuracy: \t 0.6433837422771008 \tAccuracy: \t 0.6420650839544104\n",
      "Precision: \t 0.629434546862897 \tPrecision: \t 0.6291022810890361\n",
      "Recall: \t 0.6924118755045295 \tRecall: \t 0.6893738828936582\n",
      "F1: \t\t 0.65942298246738 \tF1: \t\t 0.6578604818180069\n"
     ]
    }
   ],
   "source": [
    "for heuristic in heuristics:\n",
    "    rf = cuRandomForestClassifier(n_estimators=100, \n",
    "                                max_depth=max(results[heuristic], key=results[heuristic].get), \n",
    "                                split_criterion=heuristic)\n",
    "    rf.fit(cuTrainingX, cuTrainingY)\n",
    "\n",
    "    predictionsTrain = rf.predict(cuTrainingX)\n",
    "    predictionsTest = rf.predict(cuTestX)\n",
    "\n",
    "    predictionsTrain = convertToNumpy(predictionsTrain)\n",
    "    predictionsTest = convertToNumpy(predictionsTest)\n",
    "\n",
    "    metricsTest = getMetrics(getConfusionMatrix(cuTestY, predictionsTest))\n",
    "    metricsTrain = getMetrics(getConfusionMatrix(cuTrainY, predictionsTrain))\n",
    "\n",
    "    print(\"\\nRF '\" + heuristic + \"' (GPU) on Training Set: \\tRF '\" + heuristic + \"' (GPU) on Test Set:\")\n",
    "    printAll(metricsTrain, metricsTest)"
   ]
  },
  {
   "attachments": {},
   "cell_type": "markdown",
   "metadata": {},
   "source": [
    "## NAIVE BAYES GAUSSIAN"
   ]
  },
  {
   "cell_type": "code",
   "execution_count": 6,
   "metadata": {},
   "outputs": [
    {
     "name": "stdout",
     "output_type": "stream",
     "text": [
      "\n",
      "NB Gaussian on Training Set: \t\tNB Gaussian on Test Set:\n",
      "Accuracy: \t 0.6269968336881272 \tAccuracy: \t 0.62692023881398\n",
      "Precision: \t 0.6015250072275224 \tPrecision: \t 0.6016939973571909\n",
      "Recall: \t 0.7464371877774688 \tRecall: \t 0.7467369241729732\n",
      "F1: \t\t 0.6661917321369253 \tF1: \t\t 0.6664147457698283\n"
     ]
    }
   ],
   "source": [
    "nb = GaussianNB()\n",
    "nb.fit(trainingX, trainingY)\n",
    "\n",
    "predictionsTrain = nb.predict(trainingX)\n",
    "predictionsTest = nb.predict(testX)\n",
    "\n",
    "metricsTest = getMetrics(getConfusionMatrix(testY, predictionsTest))\n",
    "metricsTraing = getMetrics(getConfusionMatrix(trainingY, predictionsTrain))\n",
    "\n",
    "print(\"\\nNB Gaussian on Training Set: \\t\\tNB Gaussian on Test Set:\")\n",
    "printAll(metricsTraing, metricsTest)"
   ]
  },
  {
   "attachments": {},
   "cell_type": "markdown",
   "metadata": {},
   "source": [
    "## NAIVE BAYES MULTINOMIAL"
   ]
  },
  {
   "cell_type": "code",
   "execution_count": 8,
   "metadata": {},
   "outputs": [
    {
     "name": "stdout",
     "output_type": "stream",
     "text": [
      "\n",
      "NB Multinomial on Training Set: \tNB Multinomial on Test Set:\n",
      "Accuracy: \t 0.5845982182787428 \tAccuracy: \t 0.5010531964848729\n",
      "Precision: \t 0.5792350424621672 \tPrecision: \t 0.5000505121936435\n",
      "Recall: \t 0.6101893290522785 \tRecall: \t 0.998037449760058\n",
      "F1: \t\t 0.5943093993837257 \tF1: \t\t 0.6662748124484008\n"
     ]
    }
   ],
   "source": [
    "trainXCategorial = trainingX.copy()\n",
    "trainXCategorial.AGE = trainingX.AGE >= trainingX.AGE.median()\n",
    "\n",
    "nb = MultinomialNB()\n",
    "nb.fit(trainXCategorial, trainingY)\n",
    "\n",
    "predictionsTrain = nb.predict(trainXCategorial)\n",
    "predictionTest = nb.predict(testX)\n",
    "\n",
    "metricsTest = getMetrics(getConfusionMatrix(testY, predictionTest))\n",
    "metricsTrainig = getMetrics(getConfusionMatrix(trainingY, predictionsTrain))\n",
    "\n",
    "print(\"\\nNB Multinomial on Training Set: \\tNB Multinomial on Test Set:\")\n",
    "printAll(metricsTrainig, metricsTest)"
   ]
  },
  {
   "cell_type": "code",
   "execution_count": 14,
   "metadata": {},
   "outputs": [
    {
     "name": "stdout",
     "output_type": "stream",
     "text": [
      "\n",
      "NB Multinomial on Training Set: \tNB Multinomial on Test Set:\n",
      "Accuracy: \t 0.6330253483837498 \tAccuracy: \t 0.5843965922050044\n",
      "Precision: \t 0.6311524315852279 \tPrecision: \t 0.5535112299004181\n",
      "Recall: \t 0.6355728531458498 \tRecall: \t 0.8632726881546923\n",
      "F1: \t\t 0.6333549295145326 \tF1: \t\t 0.6745292930991006\n"
     ]
    }
   ],
   "source": [
    "from sklearn.naive_bayes import BernoulliNB\n",
    "from weightedstats import numpy_weighted_median\n",
    "\n",
    "trainXCategorial = trainingX.copy()\n",
    "trainXCategorial.AGE = trainingX.AGE >= trainingX.AGE.median() #numpy_weighted_median(trainingX.AGE.to_numpy(), trainingX.AGE.value_counts())\n",
    "\n",
    "nb = BernoulliNB()\n",
    "nb.fit(trainXCategorial, trainingY)\n",
    "\n",
    "predictionsTrain = nb.predict(trainXCategorial)\n",
    "predictionTest = nb.predict(testX)\n",
    "\n",
    "metricsTest = getMetrics(getConfusionMatrix(testY, predictionTest))\n",
    "metricsTrainig = getMetrics(getConfusionMatrix(trainingY, predictionsTrain))\n",
    "\n",
    "print(\"\\nNB Multinomial on Training Set: \\tNB Multinomial on Test Set:\")\n",
    "printAll(metricsTrainig, metricsTest)"
   ]
  },
  {
   "attachments": {},
   "cell_type": "markdown",
   "metadata": {},
   "source": [
    "## KNN - K NEAREST NEIGHBORS"
   ]
  },
  {
   "cell_type": "code",
   "execution_count": 6,
   "metadata": {},
   "outputs": [],
   "source": [
    "def findBestK(lower, upper, res: dict, metric=\"accuracy\"):\n",
    "    median = (lower + upper) // 2\n",
    "    if lower == median:\n",
    "        return lower\n",
    "    \n",
    "    results = dict()\n",
    "    print(\"K: L -> \" + str(lower) + \" \\t/ M -> \" + str(median) + \"\\t/  U ->\" + str(upper))\n",
    "    for k in [lower, median, upper]:\n",
    "        knn = KNeighborsClassifier(n_neighbors=k)\n",
    "        knn.fit(cuTrainingX, cuTrainingY)\n",
    "        predicted = knn.predict(cuTestX)\n",
    "        \n",
    "        predicted = convertToNumpy(predicted)\n",
    "        results[k] = getMetrics(getConfusionMatrix(cuTestY, predicted))[metric]\n",
    "        res[k] = results[k]\n",
    "\n",
    "    if results[median] > results[lower]:\n",
    "        return findBestK(median, upper, res, metric)\n",
    "    else:\n",
    "        return findBestK(lower, median, res, metric)"
   ]
  },
  {
   "cell_type": "code",
   "execution_count": 7,
   "metadata": {},
   "outputs": [
    {
     "name": "stdout",
     "output_type": "stream",
     "text": [
      "K: L -> 1 \t/ M -> 375\t/  U ->750\n",
      "K: L -> 375 \t/ M -> 562\t/  U ->750\n",
      "K: L -> 375 \t/ M -> 468\t/  U ->562\n",
      "K: L -> 468 \t/ M -> 515\t/  U ->562\n",
      "K: L -> 468 \t/ M -> 491\t/  U ->515\n",
      "K: L -> 468 \t/ M -> 479\t/  U ->491\n",
      "K: L -> 468 \t/ M -> 473\t/  U ->479\n",
      "K: L -> 473 \t/ M -> 476\t/  U ->479\n",
      "K: L -> 473 \t/ M -> 474\t/  U ->476\n",
      "Best K:  473\n"
     ]
    }
   ],
   "source": [
    "metric = \"recall\"\n",
    "results = {}\n",
    "bestK = findBestK(1, 750, results, metric)\n",
    "print(\"Best K: \", bestK)"
   ]
  },
  {
   "cell_type": "code",
   "execution_count": 8,
   "metadata": {},
   "outputs": [
    {
     "data": {
      "image/png": "[encoded data removed]",
      "text/plain": [
       "<Figure size 1000x500 with 2 Axes>"
      ]
     },
     "metadata": {},
     "output_type": "display_data"
    }
   ],
   "source": [
    "res = sorted(results.items())\n",
    "\n",
    "x = [k for (k, _) in res]\n",
    "y = [v for (_, v) in res]\n",
    "plt.figure(figsize=(10, 5))\n",
    "plt.subplot(2, 1, 1)\n",
    "plt.plot(x, y);\n",
    "plt.title(metric)\n",
    "plt.xlabel(\"K\")\n",
    "plt.subplot(2, 1, 2)\n",
    "plt.title(metric + \" senza K=1\")\n",
    "plt.xlabel(\"K\")\n",
    "plt.plot(x[1:], y[1:]);\n",
    "plt.tight_layout()"
   ]
  },
  {
   "cell_type": "code",
   "execution_count": 12,
   "metadata": {},
   "outputs": [
    {
     "name": "stdout",
     "output_type": "stream",
     "text": [
      "\n",
      "KNN on Training Set: \t\t\tKNN on Test Set: \n",
      "Accuracy: \t 0.6438085995585956 \tAccuracy: \t 0.6451441949701145\n",
      "Precision: \t 0.6299283300409776 \tPrecision: \t 0.6322324707385073\n",
      "Recall: \t 0.6922317904556872 \tRecall: \t 0.6916069917104433\n",
      "F1: \t\t 0.6596121135452548 \tF1: \t\t 0.660588250391397\n"
     ]
    }
   ],
   "source": [
    "knn = KNeighborsClassifier(n_neighbors=bestK)\n",
    "knn.fit(cuTrainingX, cuTrainingY)\n",
    "\n",
    "predictedTrain = knn.predict(cuTrainingX)\n",
    "predictedTest = knn.predict(cuTestX)\n",
    "\n",
    "predictedTrain = convertToNumpy(predictedTrain)\n",
    "predictedTest = convertToNumpy(predictedTest)\n",
    "\n",
    "metricsTrain = getMetrics(getConfusionMatrix(cuTrainY, predictedTrain))\n",
    "metricsTest = getMetrics(getConfusionMatrix(cuTestY, predictedTest))\n",
    "\n",
    "print(\"\\nKNN on Training Set: \\t\\t\\tKNN on Test Set: \" )\n",
    "printAll(metricsTrain, metricsTest)"
   ]
  },
  {
   "attachments": {},
   "cell_type": "markdown",
   "metadata": {},
   "source": [
    "## LINEAR SVM"
   ]
  },
  {
   "cell_type": "code",
   "execution_count": null,
   "metadata": {},
   "outputs": [],
   "source": [
    "svm = cuLinearSVC(max_iter=100000)\n",
    "svm.fit(cuTrainingX, cuTrainingY)\n",
    "\n",
    "predictionsTrain = svm.predict(cuTrainingX)\n",
    "predictionsTest = svm.predict(cuTestX)\n",
    "\n",
    "predictionsTrain = convertToNumpy(predictionsTrain)\n",
    "predictionsTest = convertToNumpy(predictionsTest)\n",
    "\n",
    "metricsTrain = getMetrics(getConfusionMatrix(cuTrainY, predictionsTrain))\n",
    "metricsTest = getMetrics(getConfusionMatrix(cuTestY, predictionsTest))\n",
    "\n",
    "print(\"\\nLinear SVM (GPU) on Training Set: \\tLinear SVM (GPU) on Test Set:\")\n",
    "printAll(metricsTrain, metricsTest)"
   ]
  },
  {
   "attachments": {},
   "cell_type": "markdown",
   "metadata": {},
   "source": [
    "## SVM"
   ]
  },
  {
   "cell_type": "code",
   "execution_count": 8,
   "metadata": {},
   "outputs": [
    {
     "name": "stdout",
     "output_type": "stream",
     "text": [
      "\n",
      "SVM con kernel 'rbf' on Training Set: \t\tSVM con kernel 'rbf' on Test Set:\n",
      "Accuracy: \t 0.6406646556755342 \tAccuracy: \t 0.6393415129906285\n",
      "Precision: \t 0.6206748326085189 \tPrecision: \t 0.6200272590659692\n",
      "Recall: \t 0.7186542971289699 \tRecall: \t 0.7156783649320962\n",
      "F1: \t\t 0.6660806902054658 \tF1: \t\t 0.6644279802512904\n",
      "\n",
      "SVM con kernel 'sigmoid' on Training Set: \t\tSVM con kernel 'sigmoid' on Test Set:\n",
      "Accuracy: \t 0.4143521261870848 \tAccuracy: \t 0.41579402826878825\n",
      "Precision: \t 0.41246465810657496 \tPrecision: \t 0.4144753655157572\n",
      "Recall: \t 0.4107909120665767 \tRecall: \t 0.41434718300389944\n",
      "F1: \t\t 0.41162608365514436 \tF1: \t\t 0.41441126434772085\n"
     ]
    }
   ],
   "source": [
    "results = dict()\n",
    "kernels = [\"rbf\", \"sigmoid\"]\n",
    "\n",
    "for kernel in kernels:\n",
    "    svm = cuSVC(kernel=kernel, max_iter=10000, degree=8)\n",
    "    svm.fit(cuTrainingX, cuTrainingY)\n",
    "\n",
    "    predictionsTrain = svm.predict(cuTrainingX)\n",
    "    predictionsTest = svm.predict(cuTestX)\n",
    "    \n",
    "    predictionsTrain = convertToNumpy(predictionsTrain)\n",
    "    predictionsTest = convertToNumpy(predictionsTest)\n",
    "\n",
    "    metricsTrain = getMetrics(getConfusionMatrix(cuTrainY, predictionsTrain))\n",
    "    metricsTest = getMetrics(getConfusionMatrix(cuTestY, predictionsTest))\n",
    "    \n",
    "    print(\"\\nSVM con kernel '\" + kernel + \"' on Training Set: \\t\\tSVM con kernel '\" + kernel + \"' on Test Set:\")\n",
    "    printAll(metricsTrain, metricsTest)"
   ]
  },
  {
   "attachments": {},
   "cell_type": "markdown",
   "metadata": {},
   "source": [
    "## LOGISTIC REGRESSION"
   ]
  },
  {
   "cell_type": "code",
   "execution_count": 6,
   "metadata": {},
   "outputs": [
    {
     "name": "stdout",
     "output_type": "stream",
     "text": [
      "\n",
      "Logistic Regression (solver = \"lbfgs\") on Training Set: \t\t Logistic Regression (solver = \"lbfgs\") on Test Set:\n",
      "Accuracy: \t 0.6432711400511619 \tAccuracy: \t 0.6444757496478165\n",
      "Precision: \t 0.6344466572797348 \tPrecision: \t 0.6350795183171587\n",
      "Recall: \t 0.6724750700280112 \tRecall: \t 0.6732017343064121\n",
      "F1: \t\t 0.6529075940333838 \tF1: \t\t 0.6535852016471665\n",
      "\n",
      "Logistic Regression (solver = \"liblinear\") on Training Set: \t\t Logistic Regression (solver = \"liblinear\") on Test Set:\n",
      "Accuracy: \t 0.6433695282731973 \tAccuracy: \t 0.6444824579056819\n",
      "Precision: \t 0.6346524136588504 \tPrecision: \t 0.6351700031776295\n",
      "Recall: \t 0.6721299719887955 \tRecall: \t 0.6728785716209301\n",
      "F1: \t\t 0.6528537784104513 \tF1: \t\t 0.6534807540162545\n",
      "\n",
      "Logistic Regression (solver = \"newton-cg\") on Training Set: \t\t Logistic Regression (solver = \"newton-cg\") on Test Set:\n",
      "Accuracy: \t 0.64338741704084 \tAccuracy: \t 0.6445361239686054\n",
      "Precision: \t 0.6346602233440675 \tPrecision: \t 0.6352105336739492\n",
      "Recall: \t 0.6721837535014006 \tRecall: \t 0.6729728274041957\n",
      "F1: \t\t 0.6528832801528811 \tF1: \t\t 0.6535466534158891\n",
      "\n",
      "Logistic Regression (solver = \"sag\") on Training Set: \t\t Logistic Regression (solver = \"sag\") on Test Set:\n",
      "Accuracy: \t 0.64338741704084 \tAccuracy: \t 0.6445361239686054\n",
      "Precision: \t 0.6346602233440675 \tPrecision: \t 0.6352105336739492\n",
      "Recall: \t 0.6721837535014006 \tRecall: \t 0.6729728274041957\n",
      "F1: \t\t 0.6528832801528811 \tF1: \t\t 0.6535466534158891\n"
     ]
    }
   ],
   "source": [
    "totalMetrics = dict()\n",
    "solvers = [\"lbfgs\", \"liblinear\", \"newton-cg\", \"sag\"]\n",
    "\n",
    "for solver in solvers:\n",
    "    lr = LogisticRegression(max_iter=100000, solver=solver)\n",
    "    lr.fit(trainingX, trainingY)\n",
    "    \n",
    "    predictionsTrain = lr.predict(trainingX)\n",
    "    predictionsTest = lr.predict(testX)\n",
    "\n",
    "    metricsTest = getMetrics(getConfusionMatrix(testY, predictionsTest))\n",
    "    metricsTrain = getMetrics(getConfusionMatrix(trainingY, predictionsTrain))\n",
    "    \n",
    "    totalMetrics[solver] = (metricsTrain, metricsTest)\n",
    "\n",
    "    print(\"\\nLogistic Regression (solver = \\\"\" + solver + \"\\\") on Training Set: \\t\\t Logistic Regression (solver = \\\"\" + solver + \"\\\") on Test Set:\")\n",
    "    printAll(metricsTrain, metricsTest)"
   ]
  }
 ],
 "metadata": {
  "kernelspec": {
   "display_name": "Python-PUM3iCJl",
   "language": "python",
   "name": "python3"
  },
  "language_info": {
   "codemirror_mode": {
    "name": "ipython",
    "version": 3
   },
   "file_extension": ".py",
   "mimetype": "text/x-python",
   "name": "python",
   "nbconvert_exporter": "python",
   "pygments_lexer": "ipython3",
   "version": "3.10.9"
  },
  "orig_nbformat": 4
 },
 "nbformat": 4,
 "nbformat_minor": 2
}
