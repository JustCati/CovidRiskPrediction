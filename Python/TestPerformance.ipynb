{
 "cells": [
  {
   "cell_type": "code",
   "execution_count": 1,
   "metadata": {},
   "outputs": [],
   "source": [
    "import numpy as np\n",
    "import pandas as pd\n",
    "import matplotlib.pyplot as plt\n",
    "\n",
    "from sklearn.decomposition import PCA\n",
    "from sklearn.model_selection import train_test_split\n",
    "from sklearn.neighbors import KNeighborsClassifier"
   ]
  },
  {
   "cell_type": "code",
   "execution_count": 2,
   "metadata": {},
   "outputs": [],
   "source": [
    "import cudf as cu\n",
    "from cuml.decomposition import PCA as cuPCA\n",
    "from cuml.neighbors import KNeighborsClassifier as cuKNeighborsClassifier\n",
    "from cuml.svm import SVC as cuSVC, LinearSVC as cuLinearSVC\n",
    "from cuml import RandomForestClassifier as cuRandomForestClassifier\n",
    "from cuml.model_selection import train_test_split as cuTrainTestSplit"
   ]
  },
  {
   "cell_type": "markdown",
   "metadata": {},
   "source": [
    "## CALCULATE METRICS"
   ]
  },
  {
   "cell_type": "code",
   "execution_count": 2,
   "metadata": {},
   "outputs": [],
   "source": [
    "def getConfusionMatrix(labels: np.ndarray, predictions: np.ndarray):\n",
    "    confusion = dict()\n",
    "    confusion[\"TP\"] = np.sum(labels & predictions)\n",
    "    confusion[\"TN\"] = np.sum(~labels & ~predictions)\n",
    "    confusion[\"FP\"] = np.sum(~labels & predictions)\n",
    "    confusion[\"FN\"] = np.sum(labels & ~predictions)\n",
    "    return confusion\n",
    "\n",
    "def getMetrics(confusion):\n",
    "    metrics = dict()\n",
    "    metrics[\"accuracy\"] = (confusion[\"TP\"] + confusion[\"TN\"]) / (confusion[\"TP\"] + confusion[\"TN\"] + confusion[\"FP\"] + confusion[\"FN\"])\n",
    "    metrics[\"precision\"] = confusion[\"TP\"] / (confusion[\"TP\"] + confusion[\"FP\"])\n",
    "    metrics[\"recall\"] = confusion[\"TP\"] / (confusion[\"TP\"] + confusion[\"FN\"])\n",
    "    metrics[\"f1\"] = 2 * (metrics[\"precision\"] * metrics[\"recall\"]) / (metrics[\"precision\"] + metrics[\"recall\"])\n",
    "    return metrics\n",
    "\n",
    "def printMetrics(confusion):\n",
    "    print(\"Accuracy: \\t\", confusion[\"accuracy\"])\n",
    "    print(\"Precision: \\t\", confusion[\"precision\"])\n",
    "    print(\"Recall: \\t\", confusion[\"recall\"])\n",
    "    print(\"F1: \\t\\t\", confusion[\"f1\"])"
   ]
  },
  {
   "attachments": {},
   "cell_type": "markdown",
   "metadata": {},
   "source": [
    "## LOAD DATA CPU"
   ]
  },
  {
   "cell_type": "code",
   "execution_count": 3,
   "metadata": {},
   "outputs": [],
   "source": [
    "covid = pd.read_parquet('covidClean.parquet')\n",
    "\n",
    "toRemove = [\"PATIENT_ID\", \"USMER\", \"SYMPTOMS_DATE\",\n",
    "            \"MEDICAL_UNIT\", \"ADMISSION_DATE\", \"PATIENT_TYPE\",\n",
    "            \"DEATH_DATE\", \"ORIGIN_COUNTRY\"]\n",
    "covid = covid.drop(columns = toRemove)\n",
    "covid = covid.drop(columns= [\"DIED\", \"INTUBED\", \"ICU\"])\n",
    "\n",
    "labels = covid[\"AT_RISK\"]\n",
    "covid = covid.drop(columns = [\"AT_RISK\"])"
   ]
  },
  {
   "cell_type": "code",
   "execution_count": 11,
   "metadata": {},
   "outputs": [
    {
     "data": {
      "text/plain": [
       "<Axes: ylabel='Density'>"
      ]
     },
     "execution_count": 11,
     "metadata": {},
     "output_type": "execute_result"
    },
    {
     "data": {
      "image/png": "[encoded data removed]",
      "text/plain": [
       "<Figure size 640x480 with 1 Axes>"
      ]
     },
     "metadata": {},
     "output_type": "display_data"
    }
   ],
   "source": [
    "# for col in covid.columns:\n",
    "#     covid[col].hist()\n",
    "#     plt.savefig(\"Temp/\" + col + \".png\")\n",
    "\n",
    "covid.AGE.astype(\"int\").plot(kind=\"kde\")"
   ]
  },
  {
   "attachments": {},
   "cell_type": "markdown",
   "metadata": {},
   "source": [
    "## Load Data GPU"
   ]
  },
  {
   "cell_type": "code",
   "execution_count": 5,
   "metadata": {},
   "outputs": [],
   "source": [
    "cuCovid = cu.read_parquet('covidClean.parquet')\n",
    "\n",
    "toRemove = [\"PATIENT_ID\", \"USMER\", \"SYMPTOMS_DATE\",\n",
    "        \"MEDICAL_UNIT\", \"ADMISSION_DATE\", \"PATIENT_TYPE\",\n",
    "        \"DEATH_DATE\", \"ORIGIN_COUNTRY\"]\n",
    "cuCovid = cuCovid.drop(columns = toRemove)\n",
    "cuCovid = cuCovid.drop(columns= [\"DIED\", \"INTUBED\", \"ICU\"])\n",
    "cuCovid = cuCovid.astype(\"float32\")\n",
    "\n",
    "labels = cuCovid[\"AT_RISK\"]\n",
    "covidX = cuCovid.drop(columns = [\"AT_RISK\"])"
   ]
  },
  {
   "cell_type": "code",
   "execution_count": 6,
   "metadata": {},
   "outputs": [],
   "source": [
    "pca = cuPCA(n_components=2)\n",
    "\n",
    "transformedX = pca.fit_transform(covidX)"
   ]
  },
  {
   "cell_type": "code",
   "execution_count": 7,
   "metadata": {},
   "outputs": [],
   "source": [
    "cuTrainingX, cuTestX, cuTrainingY, cuTestY = cuTrainTestSplit(transformedX, labels, test_size=0.25)\n",
    "\n",
    "cuTestY = cuTestY.to_pandas().to_numpy().astype(\"bool\")\n",
    "cuTrainY = cuTrainingY.to_pandas().to_numpy().astype(\"bool\")"
   ]
  },
  {
   "cell_type": "code",
   "execution_count": 8,
   "metadata": {},
   "outputs": [
    {
     "name": "stdout",
     "output_type": "stream",
     "text": [
      "K:  1\n",
      "K:  500\n",
      "K:  1000\n",
      "K:  500\n",
      "K:  750\n",
      "K:  1000\n",
      "K:  500\n",
      "K:  625\n",
      "K:  750\n",
      "K:  500\n",
      "K:  562\n",
      "K:  625\n",
      "K:  500\n",
      "K:  531\n",
      "K:  562\n",
      "K:  500\n",
      "K:  515\n",
      "K:  531\n",
      "K:  500\n",
      "K:  507\n",
      "K:  515\n",
      "K:  507\n",
      "K:  511\n",
      "K:  515\n",
      "K:  507\n",
      "K:  509\n",
      "K:  511\n",
      "K:  507\n",
      "K:  508\n",
      "K:  509\n",
      "Best K:  507\n"
     ]
    }
   ],
   "source": [
    "def findBestK(lower, upper, metric=\"accuracy\"):\n",
    "    median = (lower + upper) // 2\n",
    "    if lower == median:\n",
    "        return lower\n",
    "    \n",
    "    results = dict()\n",
    "    for k in [lower, median, upper]:\n",
    "        print(\"K: \", k)\n",
    "        knn = cuKNeighborsClassifier(n_neighbors=k)\n",
    "        knn.fit(cuTrainingX, cuTrainingY)\n",
    "        predicted = knn.predict(cuTestX)\n",
    "        \n",
    "        predicted = predicted.to_pandas().to_numpy().astype(\"bool\")\n",
    "        results[k] = getMetrics(getConfusionMatrix(cuTestY, predicted))[metric]\n",
    "\n",
    "    if results[median] > results[lower]:\n",
    "        return findBestK(median, upper, metric)\n",
    "    else:\n",
    "        return findBestK(lower, median, metric)\n",
    "\n",
    "#!----------------------------------------------\n",
    "    \n",
    "bestK = findBestK(1, 1000, \"f1\")\n",
    "print(\"Best K: \", bestK)"
   ]
  },
  {
   "cell_type": "code",
   "execution_count": 11,
   "metadata": {},
   "outputs": [
    {
     "name": "stdout",
     "output_type": "stream",
     "text": [
      "KNN\n",
      "Accuracy: \t 0.6365702384616896\n",
      "Precision: \t 0.6261350531277642\n",
      "Recall: \t 0.7167465586629412\n",
      "F1: \t\t 0.6683837810380375\n"
     ]
    }
   ],
   "source": [
    "knn = cuKNeighborsClassifier(n_neighbors=bestK)\n",
    "\n",
    "knn.fit(cuTrainingX, cuTrainingY)\n",
    "knnPredictions = knn.predict(cuTestX)\n",
    "\n",
    "knnPredictions = knnPredictions.to_pandas().to_numpy().astype(\"bool\")\n",
    "\n",
    "metrics = getMetrics(getConfusionMatrix(cuTestY, knnPredictions))\n",
    "\n",
    "print(\"KNN\")\n",
    "printMetrics(metrics)"
   ]
  }
 ],
 "metadata": {
  "kernelspec": {
   "display_name": "Python-PUM3iCJl",
   "language": "python",
   "name": "python3"
  },
  "language_info": {
   "codemirror_mode": {
    "name": "ipython",
    "version": 3
   },
   "file_extension": ".py",
   "mimetype": "text/x-python",
   "name": "python",
   "nbconvert_exporter": "python",
   "pygments_lexer": "ipython3",
   "version": "3.10.9"
  },
  "orig_nbformat": 4
 },
 "nbformat": 4,
 "nbformat_minor": 2
}
