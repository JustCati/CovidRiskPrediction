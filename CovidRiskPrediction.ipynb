{
 "cells": [
  {
   "attachments": {},
   "cell_type": "markdown",
   "metadata": {},
   "source": [
    "---\n",
    "\n",
    "<h1 align=\"center\">Covid 19 - Risk Prediction</h1>\n",
    "<h3 align=\"center\">Alessandro Sebastiano Catinello</h3>\n",
    "<h5 align=\"center\">??? 2023</h5>"
   ]
  },
  {
   "attachments": {},
   "cell_type": "markdown",
   "metadata": {},
   "source": [
    "L'obiettivo principale di questo progetto è mostrare l'implementazione di un **classificatore binario** che, dati i sintomi attuali, lo stato e la storia clinica di un paziente che ha contratto il Covid-19, sia capace di predire se il paziente è a rischio di sviluppare una forma grave della malattia o meno. \n",
    "\n",
    "Inizialmente eseguiremo una prima fase di **data cleanining** per testare la qualità dei dati e, qualora fosse necessario, modificarli per renderli più adatti allo studio. \n",
    "\n",
    "Successivamente, dopo aver effetuato una breve **analisi esplorativa** sui dati, si testeranno diversi **classificatori**. A tale fine utilizzeremo:\n",
    "- K-Nearest Neighbors (KNN)\n",
    "- Support Vector Machine (SVM)\n",
    "- Naive Bayes (Normal e Multinomial)\n",
    "- Decision Trees e Random Forest\n",
    "- Multilayer Perceptron (MLP)\n",
    "\n",
    "Per ogni algoritmo testeremo vari iperparametri e ne valuteremo le prestazioni, effettueremo inoltre un **confronto** tra i diversi classificatori.\n",
    "\n",
    "<br>\n",
    "\n",
    "<br>\n",
    "\n",
    "**TODO: CURVE DI SOPRAVVIVENZA ???**"
   ]
  },
  {
   "attachments": {},
   "cell_type": "markdown",
   "metadata": {},
   "source": [
    "---\n",
    "<h3>Indice</h3>\n",
    "\n",
    "\n",
    "1. [Configurazione dell'ambiente](#sec1)\n",
    "2. [Presentazione Dataset e conversione](#sec2)\n",
    "3. [Data Cleaning](#sec3)\n",
    "4. [Analisi Dati - EDA](#sec4)\n",
    "5. "
   ]
  },
  {
   "attachments": {},
   "cell_type": "markdown",
   "metadata": {},
   "source": [
    "---\n",
    "\n",
    "<a id=\"sec1\"></a>\n",
    "## 1. Configurazione dell'ambiente\n"
   ]
  },
  {
   "cell_type": "code",
   "execution_count": 1,
   "metadata": {
    "vscode": {
     "languageId": "r"
    }
   },
   "outputs": [
    {
     "name": "stderr",
     "output_type": "stream",
     "text": [
      "\n",
      "Caricamento pacchetto: ‘arrow’\n",
      "\n",
      "\n",
      "Il seguente oggetto è mascherato da ‘package:utils’:\n",
      "\n",
      "    timestamp\n",
      "\n",
      "\n"
     ]
    }
   ],
   "source": [
    "library(arrow)\n",
    "\n",
    "cleanup <- function() {\n",
    "    rm(list = ls())\n",
    "    invisible(gc())\n",
    "}"
   ]
  },
  {
   "attachments": {},
   "cell_type": "markdown",
   "metadata": {},
   "source": [
    "--- \n",
    "<a id=\"sec2\"></a>\n",
    "\n",
    "## 2. Presentazione Dataset e conversione\n",
    "\n",
    "Il dataset utilizzato è fornito dal governo Messicano ([link](https://www.gob.mx/salud/documentos/datos-abiertos-152127)) e contiene informazioni di pazienti anonimi, comprese le condizioni pregresse, riguardanti l'infezione da SARS-CoV-2 o, più comunemente, Covid-19. Il Dataset contiene circa 4 milioni di pazienti univoci ed è diviso in 24 colonne. Nelle colonne **booleane** troveremo 1 = \"SI\", 2 = \"NO\" e 97, 98, 99 = \"NON DISPONIBILE\":\n",
    "\n",
    "1. **Patient ID**: ID univoco identificativo del paziente\n",
    "   \n",
    "2. **Sex**: Sesso del paziente (1 = Femmina, 2 = Maschio).\n",
    "3. **Age**: Età del paziente.\n",
    "4. **Patient type**: Tipo di cura che il paziente ha ricevuto. 1 = \"CASA\", 2 = \"OSPEDALIZZATO\".\n",
    "5. **Admission date**: Data di ammissione del paziente.\n",
    "6. **Symptoms date**: Data in cui il paziente ha iniziato a manifestare i sintomi.\n",
    "7. **Death date**: In caso di decesso, ne indica la data; altrimenti troveremo \"9999-99-99\".\n",
    "8. **Pneumonia**: Indica se il paziente fosse già affetto da polmonite.\n",
    "9.  **Pregnancy**: Indica se il paziente fosse in gravidanza.\n",
    "10. **Diabetes**: Indica se il paziente fosse affetto da diabete.\n",
    "11. **Copd**: Indica se il paziente fosse affetto da malattie polmonari ostruttive croniche.\n",
    "12. **Ashtma**: Indica se il paziente fosse affetto da asma.\n",
    "13. **Inmsupr**: Indica se il paziente fosse immunosoppresso.\n",
    "14. **Hypertension**: Indica se il paziente fosse affetto da ipertensione.\n",
    "15. **Cardiovascular**: Indice se il paziente fosse affetto da malattie relative al cuore o ai vasi sanguigni. (Sistema Cardiovascolare)\n",
    "16. **Renal Chronic**: Indica se il paziente fosse affetto da malattie renali croniche.\n",
    "17. **Other Desease**: Indica se il paziente fosse affetto da altre malattie.\n",
    "18. **Obesity**: Indica se il paziente fosse affetto da obesità.\n",
    "19. **Tobacco**: Indica se il paziente fosse fumatore.\n",
    "20. **USMER**: Indica se il paziente è stato trattato da un'unità medica nazionale\n",
    "21. **Origin Country**: Indica il paese di origine del paziente.\n",
    "22. **Medical Unit**: Indica il tipo di unità medica del Sistema Medico Nazionale che ha curato il paziente.\n",
    "23. **Intubed**: Indica se il paziente è stato intubato. \n",
    "24. **ICU**: Indica se il paziente è stato ricoverato in terapia intensiva."
   ]
  },
  {
   "attachments": {},
   "cell_type": "markdown",
   "metadata": {},
   "source": [
    "Data la mole del Dataset, il formato \"csv\" nativo non è ottimale per le prestazioni e il salvataggio dei dati. Per questo motivo, convertiremo il dataset in un formato più performante, in particolare in un formato \"parquet\". Questo formato è ottimale per i dataset di grandi dimensioni e permette di salvare i dati in un formato compresso, che permette di ridurre il tempo di caricamento e di salvataggio dei dati. \n",
    "\n",
    "A tale fine utilizzeremo la libreria R \"arrow\"."
   ]
  },
  {
   "cell_type": "code",
   "execution_count": 2,
   "metadata": {
    "vscode": {
     "languageId": "r"
    }
   },
   "outputs": [],
   "source": [
    "df <- read.csv(\"covidOriginal.csv\")\n",
    "write_parquet(df, \"covidOriginal.parquet\")\n",
    "cleanup()"
   ]
  },
  {
   "attachments": {},
   "cell_type": "markdown",
   "metadata": {},
   "source": [
    "---\n",
    "<a id=\"seg3\"></a>\n",
    "\n",
    "## 3. Data Cleaning\n",
    "\n",
    "### 3.1. Caricamento del Dataset"
   ]
  },
  {
   "cell_type": "code",
   "execution_count": 3,
   "metadata": {
    "vscode": {
     "languageId": "r"
    }
   },
   "outputs": [
    {
     "data": {
      "text/html": [
       "<table class=\"dataframe\">\n",
       "<caption>A data.frame: 6 × 24</caption>\n",
       "<thead>\n",
       "\t<tr><th></th><th scope=col>PATIENT_ID</th><th scope=col>USMER</th><th scope=col>MEDICAL_UNIT</th><th scope=col>SEX</th><th scope=col>PATIENT_TYPE</th><th scope=col>ADMISSION_DATE</th><th scope=col>SYMPTOMS_DATE</th><th scope=col>DEATH_DATE</th><th scope=col>INTUBED</th><th scope=col>PNEUMONIA</th><th scope=col>⋯</th><th scope=col>ASTHMA</th><th scope=col>INMUSUPR</th><th scope=col>HYPERTENSION</th><th scope=col>OTHER_DISEASE</th><th scope=col>CARDIOVASCULAR</th><th scope=col>OBESITY</th><th scope=col>RENAL_CHRONIC</th><th scope=col>TOBACCO</th><th scope=col>ORIGIN_COUNTRY</th><th scope=col>ICU</th></tr>\n",
       "\t<tr><th></th><th scope=col>&lt;chr&gt;</th><th scope=col>&lt;int&gt;</th><th scope=col>&lt;int&gt;</th><th scope=col>&lt;int&gt;</th><th scope=col>&lt;int&gt;</th><th scope=col>&lt;chr&gt;</th><th scope=col>&lt;chr&gt;</th><th scope=col>&lt;chr&gt;</th><th scope=col>&lt;int&gt;</th><th scope=col>&lt;int&gt;</th><th scope=col>⋯</th><th scope=col>&lt;int&gt;</th><th scope=col>&lt;int&gt;</th><th scope=col>&lt;int&gt;</th><th scope=col>&lt;int&gt;</th><th scope=col>&lt;int&gt;</th><th scope=col>&lt;int&gt;</th><th scope=col>&lt;int&gt;</th><th scope=col>&lt;int&gt;</th><th scope=col>&lt;chr&gt;</th><th scope=col>&lt;int&gt;</th></tr>\n",
       "</thead>\n",
       "<tbody>\n",
       "\t<tr><th scope=row>1</th><td>z4d6fe</td><td>1</td><td> 6</td><td>1</td><td>1</td><td>2020-12-06</td><td>2020-11-30</td><td>9999-99-99</td><td>97</td><td>2</td><td>⋯</td><td>2</td><td>2</td><td>2</td><td>2</td><td>2</td><td>2</td><td>2</td><td>2</td><td>97</td><td>97</td></tr>\n",
       "\t<tr><th scope=row>2</th><td>z3bf80</td><td>2</td><td>12</td><td>2</td><td>1</td><td>2020-07-28</td><td>2020-07-20</td><td>9999-99-99</td><td>97</td><td>2</td><td>⋯</td><td>2</td><td>2</td><td>2</td><td>2</td><td>2</td><td>2</td><td>2</td><td>2</td><td>97</td><td>97</td></tr>\n",
       "\t<tr><th scope=row>3</th><td>z54912</td><td>1</td><td>12</td><td>1</td><td>1</td><td>2020-06-12</td><td>2020-06-10</td><td>9999-99-99</td><td>97</td><td>2</td><td>⋯</td><td>2</td><td>2</td><td>2</td><td>2</td><td>2</td><td>2</td><td>2</td><td>2</td><td>97</td><td>97</td></tr>\n",
       "\t<tr><th scope=row>4</th><td>z552ac</td><td>1</td><td>12</td><td>1</td><td>1</td><td>2020-06-02</td><td>2020-05-30</td><td>9999-99-99</td><td>97</td><td>2</td><td>⋯</td><td>2</td><td>2</td><td>2</td><td>2</td><td>2</td><td>2</td><td>2</td><td>2</td><td>97</td><td>97</td></tr>\n",
       "\t<tr><th scope=row>5</th><td>z59345</td><td>1</td><td>12</td><td>2</td><td>1</td><td>2020-07-01</td><td>2020-06-30</td><td>9999-99-99</td><td>97</td><td>2</td><td>⋯</td><td>2</td><td>2</td><td>2</td><td>2</td><td>2</td><td>2</td><td>2</td><td>2</td><td>97</td><td>97</td></tr>\n",
       "\t<tr><th scope=row>6</th><td>z4887b</td><td>2</td><td>12</td><td>1</td><td>1</td><td>2020-08-07</td><td>2020-08-05</td><td>9999-99-99</td><td>97</td><td>2</td><td>⋯</td><td>2</td><td>2</td><td>1</td><td>2</td><td>2</td><td>2</td><td>2</td><td>2</td><td>97</td><td>97</td></tr>\n",
       "</tbody>\n",
       "</table>\n"
      ],
      "text/latex": [
       "A data.frame: 6 × 24\n",
       "\\begin{tabular}{r|lllllllllllllllllllll}\n",
       "  & PATIENT\\_ID & USMER & MEDICAL\\_UNIT & SEX & PATIENT\\_TYPE & ADMISSION\\_DATE & SYMPTOMS\\_DATE & DEATH\\_DATE & INTUBED & PNEUMONIA & ⋯ & ASTHMA & INMUSUPR & HYPERTENSION & OTHER\\_DISEASE & CARDIOVASCULAR & OBESITY & RENAL\\_CHRONIC & TOBACCO & ORIGIN\\_COUNTRY & ICU\\\\\n",
       "  & <chr> & <int> & <int> & <int> & <int> & <chr> & <chr> & <chr> & <int> & <int> & ⋯ & <int> & <int> & <int> & <int> & <int> & <int> & <int> & <int> & <chr> & <int>\\\\\n",
       "\\hline\n",
       "\t1 & z4d6fe & 1 &  6 & 1 & 1 & 2020-12-06 & 2020-11-30 & 9999-99-99 & 97 & 2 & ⋯ & 2 & 2 & 2 & 2 & 2 & 2 & 2 & 2 & 97 & 97\\\\\n",
       "\t2 & z3bf80 & 2 & 12 & 2 & 1 & 2020-07-28 & 2020-07-20 & 9999-99-99 & 97 & 2 & ⋯ & 2 & 2 & 2 & 2 & 2 & 2 & 2 & 2 & 97 & 97\\\\\n",
       "\t3 & z54912 & 1 & 12 & 1 & 1 & 2020-06-12 & 2020-06-10 & 9999-99-99 & 97 & 2 & ⋯ & 2 & 2 & 2 & 2 & 2 & 2 & 2 & 2 & 97 & 97\\\\\n",
       "\t4 & z552ac & 1 & 12 & 1 & 1 & 2020-06-02 & 2020-05-30 & 9999-99-99 & 97 & 2 & ⋯ & 2 & 2 & 2 & 2 & 2 & 2 & 2 & 2 & 97 & 97\\\\\n",
       "\t5 & z59345 & 1 & 12 & 2 & 1 & 2020-07-01 & 2020-06-30 & 9999-99-99 & 97 & 2 & ⋯ & 2 & 2 & 2 & 2 & 2 & 2 & 2 & 2 & 97 & 97\\\\\n",
       "\t6 & z4887b & 2 & 12 & 1 & 1 & 2020-08-07 & 2020-08-05 & 9999-99-99 & 97 & 2 & ⋯ & 2 & 2 & 1 & 2 & 2 & 2 & 2 & 2 & 97 & 97\\\\\n",
       "\\end{tabular}\n"
      ],
      "text/markdown": [
       "\n",
       "A data.frame: 6 × 24\n",
       "\n",
       "| <!--/--> | PATIENT_ID &lt;chr&gt; | USMER &lt;int&gt; | MEDICAL_UNIT &lt;int&gt; | SEX &lt;int&gt; | PATIENT_TYPE &lt;int&gt; | ADMISSION_DATE &lt;chr&gt; | SYMPTOMS_DATE &lt;chr&gt; | DEATH_DATE &lt;chr&gt; | INTUBED &lt;int&gt; | PNEUMONIA &lt;int&gt; | ⋯ ⋯ | ASTHMA &lt;int&gt; | INMUSUPR &lt;int&gt; | HYPERTENSION &lt;int&gt; | OTHER_DISEASE &lt;int&gt; | CARDIOVASCULAR &lt;int&gt; | OBESITY &lt;int&gt; | RENAL_CHRONIC &lt;int&gt; | TOBACCO &lt;int&gt; | ORIGIN_COUNTRY &lt;chr&gt; | ICU &lt;int&gt; |\n",
       "|---|---|---|---|---|---|---|---|---|---|---|---|---|---|---|---|---|---|---|---|---|---|\n",
       "| 1 | z4d6fe | 1 |  6 | 1 | 1 | 2020-12-06 | 2020-11-30 | 9999-99-99 | 97 | 2 | ⋯ | 2 | 2 | 2 | 2 | 2 | 2 | 2 | 2 | 97 | 97 |\n",
       "| 2 | z3bf80 | 2 | 12 | 2 | 1 | 2020-07-28 | 2020-07-20 | 9999-99-99 | 97 | 2 | ⋯ | 2 | 2 | 2 | 2 | 2 | 2 | 2 | 2 | 97 | 97 |\n",
       "| 3 | z54912 | 1 | 12 | 1 | 1 | 2020-06-12 | 2020-06-10 | 9999-99-99 | 97 | 2 | ⋯ | 2 | 2 | 2 | 2 | 2 | 2 | 2 | 2 | 97 | 97 |\n",
       "| 4 | z552ac | 1 | 12 | 1 | 1 | 2020-06-02 | 2020-05-30 | 9999-99-99 | 97 | 2 | ⋯ | 2 | 2 | 2 | 2 | 2 | 2 | 2 | 2 | 97 | 97 |\n",
       "| 5 | z59345 | 1 | 12 | 2 | 1 | 2020-07-01 | 2020-06-30 | 9999-99-99 | 97 | 2 | ⋯ | 2 | 2 | 2 | 2 | 2 | 2 | 2 | 2 | 97 | 97 |\n",
       "| 6 | z4887b | 2 | 12 | 1 | 1 | 2020-08-07 | 2020-08-05 | 9999-99-99 | 97 | 2 | ⋯ | 2 | 2 | 1 | 2 | 2 | 2 | 2 | 2 | 97 | 97 |\n",
       "\n"
      ],
      "text/plain": [
       "  PATIENT_ID USMER MEDICAL_UNIT SEX PATIENT_TYPE ADMISSION_DATE SYMPTOMS_DATE\n",
       "1 z4d6fe     1      6           1   1            2020-12-06     2020-11-30   \n",
       "2 z3bf80     2     12           2   1            2020-07-28     2020-07-20   \n",
       "3 z54912     1     12           1   1            2020-06-12     2020-06-10   \n",
       "4 z552ac     1     12           1   1            2020-06-02     2020-05-30   \n",
       "5 z59345     1     12           2   1            2020-07-01     2020-06-30   \n",
       "6 z4887b     2     12           1   1            2020-08-07     2020-08-05   \n",
       "  DEATH_DATE INTUBED PNEUMONIA ⋯ ASTHMA INMUSUPR HYPERTENSION OTHER_DISEASE\n",
       "1 9999-99-99 97      2         ⋯ 2      2        2            2            \n",
       "2 9999-99-99 97      2         ⋯ 2      2        2            2            \n",
       "3 9999-99-99 97      2         ⋯ 2      2        2            2            \n",
       "4 9999-99-99 97      2         ⋯ 2      2        2            2            \n",
       "5 9999-99-99 97      2         ⋯ 2      2        2            2            \n",
       "6 9999-99-99 97      2         ⋯ 2      2        1            2            \n",
       "  CARDIOVASCULAR OBESITY RENAL_CHRONIC TOBACCO ORIGIN_COUNTRY ICU\n",
       "1 2              2       2             2       97             97 \n",
       "2 2              2       2             2       97             97 \n",
       "3 2              2       2             2       97             97 \n",
       "4 2              2       2             2       97             97 \n",
       "5 2              2       2             2       97             97 \n",
       "6 2              2       2             2       97             97 "
      ]
     },
     "metadata": {},
     "output_type": "display_data"
    }
   ],
   "source": [
    "covid <- data.frame(read_parquet(\"covidOriginal.parquet\"))\n",
    "\n",
    "head(covid)"
   ]
  },
  {
   "attachments": {},
   "cell_type": "markdown",
   "metadata": {},
   "source": [
    "### 3.2. Conversioni ovvie\n",
    "\n",
    "Osservando i dati notiamo che nella colonna **PREGNANT** i valori per gli utenti maschi sono tutti 97, 98, 99. Ovviamente però non è possibile che un uomo sia in gravidanza. Per questo motivo, sostituiamo questi valori con 2, che indica \"NO\"."
   ]
  },
  {
   "cell_type": "code",
   "execution_count": 4,
   "metadata": {
    "vscode": {
     "languageId": "r"
    }
   },
   "outputs": [],
   "source": [
    "covid$PREGNANT[covid$SEX == 2] <- 2"
   ]
  },
  {
   "attachments": {},
   "cell_type": "markdown",
   "metadata": {},
   "source": [
    "### 3.3. Eliminazione righe con valori mancanti e conversione in valori booleani\n",
    "\n",
    "Andremo ora a selezionare le colonne booleane, in queste andremo a eliminare le righe con valori mancanti (97, 98, 99) e infine convertiremo i valori rimanenti in valori booleani. Creeremo inoltre una colonna aggiuntive \"**DIED**\" per salvare il valore booleano di \"Date Died\" se diverso da \"9999-99-99\".\n",
    "\n",
    "Otterremo infine quindi nella colonna \"**SEX**\" i valori 1 = \"Femmina\", 2 = \"Maschio\" e nelle altre colonne booleane i valori 1 = \"SI\", 2 = \"NO\"."
   ]
  },
  {
   "cell_type": "code",
   "execution_count": 5,
   "metadata": {
    "vscode": {
     "languageId": "r"
    }
   },
   "outputs": [],
   "source": [
    "columns <- colnames(covid)\n",
    "remove <- c(\"PATIENT_ID\", \"USMER\", \"SYMPTOMS_DATE\",\n",
    "            \"MEDICAL_UNIT\", \"ADMISSION_DATE\", \"PATIENT_TYPE\",\n",
    "            \"DEATH_DATE\", \"AGE\", \"ORIGIN_COUNTRY\")\n",
    "columns <- columns[!(columns %in% remove)]\n",
    "\n",
    "for (col in columns){\n",
    "    covid <- covid[!(covid[[col]] %in% c(97, 98, 99)), ]\n",
    "    covid[[col]] <- covid[[col]] == 1\n",
    "}\n",
    "covid$DIED <- covid$DEATH_DATE != \"9999-99-99\"\n",
    "covid$DEATH_DATE <- as.Date(covid$DEATH_DATE, format = \"%Y-%m-%d\")\n",
    "covid$SYMPTOMS_DATE <- as.Date(covid$SYMPTOMS_DATE, format = \"%Y-%m-%d\")\n",
    "covid$ADMISSION_DATE <- as.Date(covid$ADMISSION_DATE, format = \"%Y-%m-%d\")"
   ]
  },
  {
   "attachments": {},
   "cell_type": "markdown",
   "metadata": {},
   "source": [
    "### 3.4. Colonna \"AT_RISK\"\n",
    "\n",
    "Data la classificazione da eseguire, creeremo una colonna \"**AT_RISK**\" che indica se il paziente, una volta contratto il covid, è a rischio di imbattersi in complicanze. Per fare ciò utilizzeremo le colonne \"**DIED**\", \"**INTUBED**\" e \"**ICU**\" in quanto sono le complicanze peggiori che possono verificarsi, e ne effettueremo l'OR logico.\n",
    "\n",
    "Salviamo infine il dataset pulito in un file parquet."
   ]
  },
  {
   "cell_type": "code",
   "execution_count": 6,
   "metadata": {
    "vscode": {
     "languageId": "r"
    }
   },
   "outputs": [
    {
     "data": {
      "text/html": [
       "<style>\n",
       ".list-inline {list-style: none; margin:0; padding: 0}\n",
       ".list-inline>li {display: inline-block}\n",
       ".list-inline>li:not(:last-child)::after {content: \"\\00b7\"; padding: 0 .5ex}\n",
       "</style>\n",
       "<ol class=list-inline><li>610751</li><li>26</li></ol>\n"
      ],
      "text/latex": [
       "\\begin{enumerate*}\n",
       "\\item 610751\n",
       "\\item 26\n",
       "\\end{enumerate*}\n"
      ],
      "text/markdown": [
       "1. 610751\n",
       "2. 26\n",
       "\n",
       "\n"
      ],
      "text/plain": [
       "[1] 610751     26"
      ]
     },
     "metadata": {},
     "output_type": "display_data"
    },
    {
     "data": {
      "text/plain": [
       "  PATIENT_ID            USMER        MEDICAL_UNIT       SEX         \n",
       " Length:610751      Min.   :1.000   Min.   : 1.000   Mode :logical  \n",
       " Class :character   1st Qu.:1.000   1st Qu.: 4.000   FALSE:358141   \n",
       " Mode  :character   Median :1.000   Median : 4.000   TRUE :252610   \n",
       "                    Mean   :1.467   Mean   : 7.069                  \n",
       "                    3rd Qu.:2.000   3rd Qu.:12.000                  \n",
       "                    Max.   :2.000   Max.   :13.000                  \n",
       "                                                                    \n",
       "  PATIENT_TYPE ADMISSION_DATE       SYMPTOMS_DATE          DEATH_DATE        \n",
       " Min.   :2     Min.   :2020-02-27   Min.   :2020-02-22   Min.   :2020-03-18  \n",
       " 1st Qu.:2     1st Qu.:2020-08-13   1st Qu.:2020-08-08   1st Qu.:2020-08-26  \n",
       " Median :2     Median :2020-12-30   Median :2020-12-25   Median :2021-01-10  \n",
       " Mean   :2     Mean   :2021-01-07   Mean   :2021-01-02   Mean   :2021-01-14  \n",
       " 3rd Qu.:2     3rd Qu.:2021-05-31   3rd Qu.:2021-05-25   3rd Qu.:2021-05-02  \n",
       " Max.   :2     Max.   :2022-02-07   Max.   :2021-12-31   Max.   :2022-06-16  \n",
       "                                                         NA's   :325463      \n",
       "  INTUBED        PNEUMONIA            AGE         PREGNANT      \n",
       " Mode :logical   Mode :logical   Min.   :  0.0   Mode :logical  \n",
       " FALSE:532565    FALSE:216560    1st Qu.: 46.0   FALSE:605317   \n",
       " TRUE :78186     TRUE :394191    Median : 59.0   TRUE :5434     \n",
       "                                 Mean   : 57.2                  \n",
       "                                 3rd Qu.: 70.0                  \n",
       "                                 Max.   :121.0                  \n",
       "                                                                \n",
       "  DIABETES          COPD           ASTHMA         INMUSUPR      \n",
       " Mode :logical   Mode :logical   Mode :logical   Mode :logical  \n",
       " FALSE:418401    FALSE:590165    FALSE:598817    FALSE:598577   \n",
       " TRUE :192350    TRUE :20586     TRUE :11934     TRUE :12174    \n",
       "                                                                \n",
       "                                                                \n",
       "                                                                \n",
       "                                                                \n",
       " HYPERTENSION    OTHER_DISEASE   CARDIOVASCULAR   OBESITY       \n",
       " Mode :logical   Mode :logical   Mode :logical   Mode :logical  \n",
       " FALSE:384951    FALSE:583121    FALSE:586246    FALSE:487232   \n",
       " TRUE :225800    TRUE :27630     TRUE :24505     TRUE :123519   \n",
       "                                                                \n",
       "                                                                \n",
       "                                                                \n",
       "                                                                \n",
       " RENAL_CHRONIC    TOBACCO        ORIGIN_COUNTRY        ICU         \n",
       " Mode :logical   Mode :logical   Length:610751      Mode :logical  \n",
       " FALSE:578909    FALSE:566661    Class :character   FALSE:562365   \n",
       " TRUE :31842     TRUE :44090     Mode  :character   TRUE :48386    \n",
       "                                                                   \n",
       "                                                                   \n",
       "                                                                   \n",
       "                                                                   \n",
       "    DIED          AT_RISK       \n",
       " Mode :logical   Mode :logical  \n",
       " FALSE:325463    FALSE:298887   \n",
       " TRUE :285288    TRUE :311864   \n",
       "                                \n",
       "                                \n",
       "                                \n",
       "                                "
      ]
     },
     "metadata": {},
     "output_type": "display_data"
    }
   ],
   "source": [
    "covid$AT_RISK <- covid$DIED | covid$INTUBED | covid$ICU\n",
    "write_parquet(covid, \"covidClean.parquet\")\n",
    "\n",
    "\n",
    "dim(covid)\n",
    "summary(covid)\n",
    "cleanup()"
   ]
  },
  {
   "attachments": {},
   "cell_type": "markdown",
   "metadata": {},
   "source": [
    "---\n",
    "\n",
    "\n",
    "AAAAAAAAAAAAA"
   ]
  }
 ],
 "metadata": {
  "kernelspec": {
   "display_name": "R",
   "language": "R",
   "name": "ir"
  },
  "language_info": {
   "codemirror_mode": "r",
   "file_extension": ".r",
   "mimetype": "text/x-r-source",
   "name": "R",
   "pygments_lexer": "r",
   "version": "4.2.2"
  },
  "orig_nbformat": 4,
  "vscode": {
   "interpreter": {
    "hash": "31f2aee4e71d21fbe5cf8b01ff0e069b9275f58929596ceb00d14d90e3e16cd6"
   }
  }
 },
 "nbformat": 4,
 "nbformat_minor": 2
}
