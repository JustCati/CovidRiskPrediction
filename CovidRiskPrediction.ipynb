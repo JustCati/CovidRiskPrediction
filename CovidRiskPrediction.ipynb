{
 "cells": [
  {
   "attachments": {},
   "cell_type": "markdown",
   "metadata": {},
   "source": [
    "---\n",
    "\n",
    "<h1 align=\"center\">Covid 19 - Risk Prediction</h1>\n",
    "<h3 align=\"center\">Alessandro Sebastiano Catinello</h3>\n",
    "<h5 align=\"center\">??? 2023</h5>"
   ]
  },
  {
   "attachments": {},
   "cell_type": "markdown",
   "metadata": {},
   "source": [
    "L'obiettivo principale di questo progetto è mostrare l'implementazione di un **classificatore binario** che, dati i sintomi attuali, lo stato e la storia clinica di un paziente che ha contratto il Covid-19, sia capace di predire se il paziente è a rischio di sviluppare una forma grave della malattia o meno. \n",
    "\n",
    "Inizialmente eseguiremo una prima fase di **data cleanining** per testare la qualità dei dati e, qualora fosse necessario, modificarli per renderli più adatti allo studio. \n",
    "\n",
    "Successivamente, dopo aver effetuato una breve **analisi esplorativa** sui dati, si testeranno diversi **classificatori**. A tale fine utilizzeremo:\n",
    "- K-Nearest Neighbors (KNN)\n",
    "- Support Vector Machine (SVM)\n",
    "- Naive Bayes (Normal e Multinomial)\n",
    "- Decision Trees e Random Forest\n",
    "- Multilayer Perceptron (MLP)\n",
    "\n",
    "Per ogni algoritmo testeremo vari iperparametri e ne valuteremo le prestazioni, effettueremo inoltre un **confronto** tra i diversi classificatori.\n",
    "\n",
    "<br>\n",
    "\n",
    "<br>\n",
    "\n",
    "**TODO: CURVE DI SOPRAVVIVENZA ???**"
   ]
  },
  {
   "attachments": {},
   "cell_type": "markdown",
   "metadata": {},
   "source": [
    "---\n",
    "<h3>Indice</h3>\n",
    "\n",
    "\n",
    "1. [Configurazione dell'ambiente](#sec1)\n",
    "2. [Presentazione Dataset e conversione](#sec2)\n",
    "3. [Data Cleaning](#sec3)\n",
    "4. [Analisi Dati - EDA](#sec4)\n",
    "5. "
   ]
  },
  {
   "attachments": {},
   "cell_type": "markdown",
   "metadata": {},
   "source": [
    "---\n",
    "\n",
    "<a id=\"sec1\"></a>\n",
    "## 1. Configurazione dell'ambiente\n"
   ]
  },
  {
   "cell_type": "code",
<<<<<<< HEAD
   "execution_count": 8,
=======
   "execution_count": 6,
>>>>>>> f301f27608087bd6f39fffb6b540948151acf0f9
   "metadata": {
    "vscode": {
     "languageId": "r"
    }
   },
   "outputs": [],
   "source": [
    "library(arrow)"
   ]
  },
  {
   "attachments": {},
   "cell_type": "markdown",
   "metadata": {},
   "source": [
    "--- \n",
    "<a id=\"sec2\"></a>\n",
    "\n",
    "## 2. Presentazione Dataset e conversione\n",
    "\n",
    "Il dataset utilizzato è stato fornito dal governo Messicano ([link](https://datos.gob.mx/busca/dataset/informacion-referente-a-casos-covid-19-en-mexico)) e contiene informazioni di pazienti anonimi comprese le condizioni pregresse. Il Dataset contiene circa 1 milione di pazienti univoci ed è diviso in 21 colonne. Nelle colonne **booleane** troveremo 1 = \"SI\", 2 = \"NO\" e 97, 98, 99 =\n",
    "\"NON DISPONIBILE\":\n",
    "\n",
    "1. **Sex**: Sesso del paziente (1 = Femmina, 2 = Maschio).\n",
    "\n",
    "2. **Age**: Età del paziente.\n",
    "3. **Classification**: Risultati del test Covid. Valori tra 1 e 3 indicano che il paziente è positivo. Valori dal 4 in poi indicano che il paziente è negativo o il test non è valido.\n",
    "4. **Patient type**: Tipo di cura che il paziente ha ricevuto. 1 = \"CASA\", 2 = \"OSPEDALIZZATO\".\n",
    "5. **Pneumonia**: Indica se il paziente fosse già affetto da polmonite.\n",
    "6. **Pregnancy**: Indica se il paziente fosse in gravidanza.\n",
    "7. **Diabetes**: Indica se il paziente fosse affetto da diabete.\n",
    "8. **Copd**: Indica se il paziente fosse affetto da malattie polmonari ostruttive croniche.\n",
    "9.  **Ashtma**: Indica se il paziente fosse affetto da asma.\n",
    "10. **Inmsupr**: Indica se il paziente fosse immunosoppresso.\n",
    "11. **Hypertension**: Indica se il paziente fosse affetto da ipertensione.\n",
    "12. **Cardiovascular**: Indice se il paziente fosse affetto da malattie relative al cuore o ai vasi sanguigni. (Sistema Cardiovascolare)\n",
    "13. **Renal Chronic**: Indica se il paziente fosse affetto da malattie renali croniche.\n",
    "14. **Other Desease**: Indica se il paziente fosse affetto da altre malattie.\n",
    "15. **Obesity**: Indica se il paziente fosse affetto da obesità.\n",
    "16. **Tobacco**: Indica se il paziente fosse fumatore.\n",
    "17. **USMR**: Indica se il paziente è stato trattato da unità mediche di primo, secondo o terzo livello.\n",
    "18. **Medical Unit**: Indica il tipo di unità medica del Sistema Medico Nazionale che ha curato il paziente.\n",
    "19. **Intubed**: Indica se il paziente è stato intubato. \n",
    "20. **ICU**: Indica se il paziente è stato ricoverato in terapia intensiva.\n",
    "21. **Date Died**: Indica la data di decesso del paziente, altrimenti troveremo \"9999-99-99\"."
   ]
  },
  {
   "attachments": {},
   "cell_type": "markdown",
   "metadata": {},
   "source": [
    "Data la mole del Dataset, il formato \"csv\" nativo non è ottimale per le prestazioni e il salvataggio dei dati. Per questo motivo, convertiremo il dataset in un formato più performante, in particolare in un formato \"parquet\". Questo formato è ottimale per i dataset di grandi dimensioni e permette di salvare i dati in un formato compresso, che permette di ridurre il tempo di caricamento e di salvataggio dei dati. \n",
    "\n",
    "A tale fine utilizzeremo la libreria R \"arrow\"."
   ]
  },
  {
   "cell_type": "code",
   "execution_count": 7,
   "metadata": {
    "vscode": {
     "languageId": "r"
    }
   },
   "outputs": [],
   "source": [
    "df <- read.csv(\"covidData.csv\")\n",
    "write_parquet(df, \"covidData.parquet\")"
   ]
  },
  {
   "attachments": {},
   "cell_type": "markdown",
   "metadata": {},
   "source": [
    "---\n",
    "<a id=\"seg3\"></a>\n",
    "\n",
    "## 3. Data Cleaning\n",
    "\n",
    "### 3.1. Caricamento del Dataset"
   ]
  },
  {
   "cell_type": "code",
<<<<<<< HEAD
   "execution_count": 9,
=======
   "execution_count": null,
>>>>>>> f301f27608087bd6f39fffb6b540948151acf0f9
   "metadata": {
    "vscode": {
     "languageId": "r"
    }
   },
   "outputs": [
    {
     "data": {
      "text/html": [
       "<table class=\"dataframe\">\n",
       "<caption>A data.frame: 6 × 21</caption>\n",
       "<thead>\n",
       "\t<tr><th></th><th scope=col>USMER</th><th scope=col>MEDICAL_UNIT</th><th scope=col>SEX</th><th scope=col>PATIENT_TYPE</th><th scope=col>DATE_DIED</th><th scope=col>INTUBED</th><th scope=col>PNEUMONIA</th><th scope=col>AGE</th><th scope=col>PREGNANT</th><th scope=col>DIABETES</th><th scope=col>⋯</th><th scope=col>ASTHMA</th><th scope=col>INMSUPR</th><th scope=col>HIPERTENSION</th><th scope=col>OTHER_DISEASE</th><th scope=col>CARDIOVASCULAR</th><th scope=col>OBESITY</th><th scope=col>RENAL_CHRONIC</th><th scope=col>TOBACCO</th><th scope=col>CLASSIFICATION_FINAL</th><th scope=col>ICU</th></tr>\n",
       "\t<tr><th></th><th scope=col>&lt;int&gt;</th><th scope=col>&lt;int&gt;</th><th scope=col>&lt;int&gt;</th><th scope=col>&lt;int&gt;</th><th scope=col>&lt;chr&gt;</th><th scope=col>&lt;int&gt;</th><th scope=col>&lt;int&gt;</th><th scope=col>&lt;int&gt;</th><th scope=col>&lt;int&gt;</th><th scope=col>&lt;int&gt;</th><th scope=col>⋯</th><th scope=col>&lt;int&gt;</th><th scope=col>&lt;int&gt;</th><th scope=col>&lt;int&gt;</th><th scope=col>&lt;int&gt;</th><th scope=col>&lt;int&gt;</th><th scope=col>&lt;int&gt;</th><th scope=col>&lt;int&gt;</th><th scope=col>&lt;int&gt;</th><th scope=col>&lt;int&gt;</th><th scope=col>&lt;int&gt;</th></tr>\n",
       "</thead>\n",
       "<tbody>\n",
       "\t<tr><th scope=row>1</th><td>2</td><td>1</td><td>1</td><td>1</td><td>03/05/2020</td><td>97</td><td>1</td><td>65</td><td> 2</td><td>2</td><td>⋯</td><td>2</td><td>2</td><td>1</td><td>2</td><td>2</td><td>2</td><td>2</td><td>2</td><td>3</td><td>97</td></tr>\n",
       "\t<tr><th scope=row>2</th><td>2</td><td>1</td><td>2</td><td>1</td><td>03/06/2020</td><td>97</td><td>1</td><td>72</td><td>97</td><td>2</td><td>⋯</td><td>2</td><td>2</td><td>1</td><td>2</td><td>2</td><td>1</td><td>1</td><td>2</td><td>5</td><td>97</td></tr>\n",
       "\t<tr><th scope=row>3</th><td>2</td><td>1</td><td>2</td><td>2</td><td>09/06/2020</td><td> 1</td><td>2</td><td>55</td><td>97</td><td>1</td><td>⋯</td><td>2</td><td>2</td><td>2</td><td>2</td><td>2</td><td>2</td><td>2</td><td>2</td><td>3</td><td> 2</td></tr>\n",
       "\t<tr><th scope=row>4</th><td>2</td><td>1</td><td>1</td><td>1</td><td>12/06/2020</td><td>97</td><td>2</td><td>53</td><td> 2</td><td>2</td><td>⋯</td><td>2</td><td>2</td><td>2</td><td>2</td><td>2</td><td>2</td><td>2</td><td>2</td><td>7</td><td>97</td></tr>\n",
       "\t<tr><th scope=row>5</th><td>2</td><td>1</td><td>2</td><td>1</td><td>21/06/2020</td><td>97</td><td>2</td><td>68</td><td>97</td><td>1</td><td>⋯</td><td>2</td><td>2</td><td>1</td><td>2</td><td>2</td><td>2</td><td>2</td><td>2</td><td>3</td><td>97</td></tr>\n",
       "\t<tr><th scope=row>6</th><td>2</td><td>1</td><td>1</td><td>2</td><td>9999-99-99</td><td> 2</td><td>1</td><td>40</td><td> 2</td><td>2</td><td>⋯</td><td>2</td><td>2</td><td>2</td><td>2</td><td>2</td><td>2</td><td>2</td><td>2</td><td>3</td><td> 2</td></tr>\n",
       "</tbody>\n",
       "</table>\n"
      ],
      "text/latex": [
       "A data.frame: 6 × 21\n",
       "\\begin{tabular}{r|lllllllllllllllllllll}\n",
       "  & USMER & MEDICAL\\_UNIT & SEX & PATIENT\\_TYPE & DATE\\_DIED & INTUBED & PNEUMONIA & AGE & PREGNANT & DIABETES & ⋯ & ASTHMA & INMSUPR & HIPERTENSION & OTHER\\_DISEASE & CARDIOVASCULAR & OBESITY & RENAL\\_CHRONIC & TOBACCO & CLASSIFICATION\\_FINAL & ICU\\\\\n",
       "  & <int> & <int> & <int> & <int> & <chr> & <int> & <int> & <int> & <int> & <int> & ⋯ & <int> & <int> & <int> & <int> & <int> & <int> & <int> & <int> & <int> & <int>\\\\\n",
       "\\hline\n",
       "\t1 & 2 & 1 & 1 & 1 & 03/05/2020 & 97 & 1 & 65 &  2 & 2 & ⋯ & 2 & 2 & 1 & 2 & 2 & 2 & 2 & 2 & 3 & 97\\\\\n",
       "\t2 & 2 & 1 & 2 & 1 & 03/06/2020 & 97 & 1 & 72 & 97 & 2 & ⋯ & 2 & 2 & 1 & 2 & 2 & 1 & 1 & 2 & 5 & 97\\\\\n",
       "\t3 & 2 & 1 & 2 & 2 & 09/06/2020 &  1 & 2 & 55 & 97 & 1 & ⋯ & 2 & 2 & 2 & 2 & 2 & 2 & 2 & 2 & 3 &  2\\\\\n",
       "\t4 & 2 & 1 & 1 & 1 & 12/06/2020 & 97 & 2 & 53 &  2 & 2 & ⋯ & 2 & 2 & 2 & 2 & 2 & 2 & 2 & 2 & 7 & 97\\\\\n",
       "\t5 & 2 & 1 & 2 & 1 & 21/06/2020 & 97 & 2 & 68 & 97 & 1 & ⋯ & 2 & 2 & 1 & 2 & 2 & 2 & 2 & 2 & 3 & 97\\\\\n",
       "\t6 & 2 & 1 & 1 & 2 & 9999-99-99 &  2 & 1 & 40 &  2 & 2 & ⋯ & 2 & 2 & 2 & 2 & 2 & 2 & 2 & 2 & 3 &  2\\\\\n",
       "\\end{tabular}\n"
      ],
      "text/markdown": [
       "\n",
       "A data.frame: 6 × 21\n",
       "\n",
       "| <!--/--> | USMER &lt;int&gt; | MEDICAL_UNIT &lt;int&gt; | SEX &lt;int&gt; | PATIENT_TYPE &lt;int&gt; | DATE_DIED &lt;chr&gt; | INTUBED &lt;int&gt; | PNEUMONIA &lt;int&gt; | AGE &lt;int&gt; | PREGNANT &lt;int&gt; | DIABETES &lt;int&gt; | ⋯ ⋯ | ASTHMA &lt;int&gt; | INMSUPR &lt;int&gt; | HIPERTENSION &lt;int&gt; | OTHER_DISEASE &lt;int&gt; | CARDIOVASCULAR &lt;int&gt; | OBESITY &lt;int&gt; | RENAL_CHRONIC &lt;int&gt; | TOBACCO &lt;int&gt; | CLASSIFICATION_FINAL &lt;int&gt; | ICU &lt;int&gt; |\n",
       "|---|---|---|---|---|---|---|---|---|---|---|---|---|---|---|---|---|---|---|---|---|---|\n",
       "| 1 | 2 | 1 | 1 | 1 | 03/05/2020 | 97 | 1 | 65 |  2 | 2 | ⋯ | 2 | 2 | 1 | 2 | 2 | 2 | 2 | 2 | 3 | 97 |\n",
       "| 2 | 2 | 1 | 2 | 1 | 03/06/2020 | 97 | 1 | 72 | 97 | 2 | ⋯ | 2 | 2 | 1 | 2 | 2 | 1 | 1 | 2 | 5 | 97 |\n",
       "| 3 | 2 | 1 | 2 | 2 | 09/06/2020 |  1 | 2 | 55 | 97 | 1 | ⋯ | 2 | 2 | 2 | 2 | 2 | 2 | 2 | 2 | 3 |  2 |\n",
       "| 4 | 2 | 1 | 1 | 1 | 12/06/2020 | 97 | 2 | 53 |  2 | 2 | ⋯ | 2 | 2 | 2 | 2 | 2 | 2 | 2 | 2 | 7 | 97 |\n",
       "| 5 | 2 | 1 | 2 | 1 | 21/06/2020 | 97 | 2 | 68 | 97 | 1 | ⋯ | 2 | 2 | 1 | 2 | 2 | 2 | 2 | 2 | 3 | 97 |\n",
       "| 6 | 2 | 1 | 1 | 2 | 9999-99-99 |  2 | 1 | 40 |  2 | 2 | ⋯ | 2 | 2 | 2 | 2 | 2 | 2 | 2 | 2 | 3 |  2 |\n",
       "\n"
      ],
      "text/plain": [
       "  USMER MEDICAL_UNIT SEX PATIENT_TYPE DATE_DIED  INTUBED PNEUMONIA AGE PREGNANT\n",
       "1 2     1            1   1            03/05/2020 97      1         65   2      \n",
       "2 2     1            2   1            03/06/2020 97      1         72  97      \n",
       "3 2     1            2   2            09/06/2020  1      2         55  97      \n",
       "4 2     1            1   1            12/06/2020 97      2         53   2      \n",
       "5 2     1            2   1            21/06/2020 97      2         68  97      \n",
       "6 2     1            1   2            9999-99-99  2      1         40   2      \n",
       "  DIABETES ⋯ ASTHMA INMSUPR HIPERTENSION OTHER_DISEASE CARDIOVASCULAR OBESITY\n",
       "1 2        ⋯ 2      2       1            2             2              2      \n",
       "2 2        ⋯ 2      2       1            2             2              1      \n",
       "3 1        ⋯ 2      2       2            2             2              2      \n",
       "4 2        ⋯ 2      2       2            2             2              2      \n",
       "5 1        ⋯ 2      2       1            2             2              2      \n",
       "6 2        ⋯ 2      2       2            2             2              2      \n",
       "  RENAL_CHRONIC TOBACCO CLASSIFICATION_FINAL ICU\n",
       "1 2             2       3                    97 \n",
       "2 1             2       5                    97 \n",
       "3 2             2       3                     2 \n",
       "4 2             2       7                    97 \n",
       "5 2             2       3                    97 \n",
       "6 2             2       3                     2 "
      ]
     },
     "metadata": {},
     "output_type": "display_data"
    }
   ],
   "source": [
    "covid <- data.frame(read_parquet(\"covidData.parquet\"))\n",
    "\n",
    "head(covid)"
   ]
  },
  {
   "attachments": {},
   "cell_type": "markdown",
   "metadata": {},
   "source": [
    "### 3.2. Conversioni ovvie\n",
    "\n",
    "Osservando i dati notiamo che nella colonna **PREGNANT** i valori per gli utenti maschi sono tutti 97, 98, 99. Ovviamente però non è possibile che un uomo sia in gravidanza. Per questo motivo, sostituiamo questi valori con 2, che indica \"NO\".\n",
    "\n",
    "Lavoreremo inoltre solo sui pazienti positivi al Covid-19. Per questo motivo, selezioniamo solo i pazienti con **Classification** tra 1 e 3."
   ]
  },
  {
   "cell_type": "code",
<<<<<<< HEAD
   "execution_count": 10,
=======
   "execution_count": null,
>>>>>>> f301f27608087bd6f39fffb6b540948151acf0f9
   "metadata": {
    "vscode": {
     "languageId": "r"
    }
   },
   "outputs": [],
   "source": [
    "covid$PREGNANT[covid$SEX == 2] <- 2\n",
    "covid <- covid[covid$CLASSIFICATION_FINAL < 4, ]"
   ]
  },
  {
   "attachments": {},
   "cell_type": "markdown",
   "metadata": {},
   "source": [
    "### 3.3. Eliminazione righe con valori mancanti e conversione in valori booleani\n",
    "\n",
    "Andremo ora a selezionare le colonne booleane, in queste andremo a eliminare le righe con valori mancanti (97, 98, 99) e infine convertiremo i valori rimanenti in valori booleani. Creeremo inoltre una colonna aggiuntive \"**DIED**\" per salvare il valore booleano di \"Date Died\" se diverso da \"9999-99-99\".\n",
    "\n",
    "Otterremo infine quindi nella colonna \"**SEX**\" i valori 1 = \"Femmina\", 2 = \"Maschio\" e nelle altre colonne booleane i valori 1 = \"SI\", 2 = \"NO\"."
   ]
  },
  {
   "cell_type": "code",
<<<<<<< HEAD
   "execution_count": 14,
=======
   "execution_count": null,
>>>>>>> f301f27608087bd6f39fffb6b540948151acf0f9
   "metadata": {
    "vscode": {
     "languageId": "r"
    }
   },
   "outputs": [],
   "source": [
    "columns <- colnames(covid)\n",
    "remove <- c(\"AGE\", \"DATE_DIED\", \"MEDICAL_UNIT\",\n",
    "            \"CLASSIFICATION_FINAL\", \"USMER\")\n",
    "columns <- columns[!(columns %in% remove)]\n",
    "\n",
    "for (col in columns){\n",
    "    covid <- covid[!(covid[[col]] %in% c(97, 98, 99)), ]\n",
    "    covid[[col]] <- covid[[col]] == 1\n",
    "}\n",
<<<<<<< HEAD
    "covid$DIED <- covid$DATE_DIED != \"9999-99-99\"\n",
    "covid$DATE_DIED <- as.Date(covid$DATE_DIED, format = \"%d/%m/%Y\")"
=======
    "covid$DIED <- covid$DATE_DIED != \"9999-99-99\""
>>>>>>> f301f27608087bd6f39fffb6b540948151acf0f9
   ]
  },
  {
   "attachments": {},
   "cell_type": "markdown",
   "metadata": {},
   "source": [
    "### 3.4. Colonna \"AT_RISK\" e eliminazione colonne inutili\n",
    "\n",
    "Dato l'obiettivo del progetto, creeremo una colonna \"**AT_RISK**\" che indica se il paziente, una volta contratto il covid, è a rischio di contrarre complicanze. Per fare ciò utilizzeremo le colonne \"**DIED**\", \"**INTUBED**\" e \"**ICU**\" in quanto sono le complicanze peggiori che possono verificarsi, e ne effettueremo l'OR logico.\n",
    "\n",
    "Elimineremo infine le colonne non utili allo studio. Tra queste \"**USMR**\" e \"**MEDICAL UNIT**\" in quanto ci concentreremo sulla storia medica del paziente e non su chi lo ha curato. Elimineremo la colonna \"**CLASSIFICATION**\" perchè non più utile e anche la colonna \"**PATIENT_TYPE**\" in quanto dopo la pulizia dei dati è popolata solo da valori 1 = \"OSPEDALIZZATO\", ciò ha senso perchè osservando il Dataset originale notiamo che quando il paziente è stato curato a casa, la maggior parte delle restanti colonne è popolata con valori 97, 98, 99.\n",
    "\n",
    "Salviamo infine il dataset pulito in un file parquet."
   ]
  },
  {
   "cell_type": "code",
<<<<<<< HEAD
   "execution_count": 16,
=======
   "execution_count": null,
>>>>>>> f301f27608087bd6f39fffb6b540948151acf0f9
   "metadata": {
    "vscode": {
     "languageId": "r"
    }
   },
<<<<<<< HEAD
   "outputs": [
    {
     "data": {
      "text/html": [
       "<style>\n",
       ".list-inline {list-style: none; margin:0; padding: 0}\n",
       ".list-inline>li {display: inline-block}\n",
       ".list-inline>li:not(:last-child)::after {content: \"\\00b7\"; padding: 0 .5ex}\n",
       "</style>\n",
       "<ol class=list-inline><li>108160</li><li>19</li></ol>\n"
      ],
      "text/latex": [
       "\\begin{enumerate*}\n",
       "\\item 108160\n",
       "\\item 19\n",
       "\\end{enumerate*}\n"
      ],
      "text/markdown": [
       "1. 108160\n",
       "2. 19\n",
       "\n",
       "\n"
      ],
      "text/plain": [
       "[1] 108160     19"
      ]
     },
     "metadata": {},
     "output_type": "display_data"
    },
    {
     "data": {
      "text/plain": [
       "    SEX            DATE_DIED           INTUBED        PNEUMONIA      \n",
       " Mode :logical   Min.   :2020-02-07   Mode :logical   Mode :logical  \n",
       " FALSE:66830     1st Qu.:2020-05-23   FALSE:84879     FALSE:36287    \n",
       " TRUE :41330     Median :2020-06-15   TRUE :23281     TRUE :71873    \n",
       "                 Mean   :2020-06-13                                  \n",
       "                 3rd Qu.:2020-07-06                                  \n",
       "                 Max.   :2021-05-02                                  \n",
       "                 NA's   :60994                                       \n",
       "      AGE          PREGNANT        DIABETES          COPD        \n",
       " Min.   :  0.00   Mode :logical   Mode :logical   Mode :logical  \n",
       " 1st Qu.: 46.00   FALSE:107474    FALSE:74164     FALSE:104385   \n",
       " Median : 56.00   TRUE :686       TRUE :33996     TRUE :3775     \n",
       " Mean   : 55.82                                                  \n",
       " 3rd Qu.: 67.00                                                  \n",
       " Max.   :105.00                                                  \n",
       "                                                                 \n",
       "   ASTHMA         INMSUPR        HIPERTENSION    OTHER_DISEASE  \n",
       " Mode :logical   Mode :logical   Mode :logical   Mode :logical  \n",
       " FALSE:105748    FALSE:105596    FALSE:69976     FALSE:103461   \n",
       " TRUE :2412      TRUE :2564      TRUE :38184     TRUE :4699     \n",
       "                                                                \n",
       "                                                                \n",
       "                                                                \n",
       "                                                                \n",
       " CARDIOVASCULAR   OBESITY        RENAL_CHRONIC    TOBACCO       \n",
       " Mode :logical   Mode :logical   Mode :logical   Mode :logical  \n",
       " FALSE:103599    FALSE:83098     FALSE:102886    FALSE:99717    \n",
       " TRUE :4561      TRUE :25062     TRUE :5274      TRUE :8443     \n",
       "                                                                \n",
       "                                                                \n",
       "                                                                \n",
       "                                                                \n",
       "    ICU             DIED          AT_RISK       \n",
       " Mode :logical   Mode :logical   Mode :logical  \n",
       " FALSE:97955     FALSE:60994     FALSE:54384    \n",
       " TRUE :10205     TRUE :47166     TRUE :53776    \n",
       "                                                \n",
       "                                                \n",
       "                                                \n",
       "                                                "
      ]
     },
     "metadata": {},
     "output_type": "display_data"
    }
   ],
   "source": [
    "covid$AT_RISK <- covid$DIED | covid$INTUBED | covid$ICU\n",
    "covid[, c(\"USMER\", \"MEDICAL_UNIT\", \"PATIENT_TYPE\", \"CLASSIFICATION_FINAL\")] <- NULL\n",
    "\n",
    "dim(covid)\n",
    "summary(covid)\n",
    "write_parquet(covid, \"covidClean.parquet\")"
=======
   "outputs": [],
   "source": [
    "covid$AT_RISK <- covid$DIED | covid$INTUBED | covid$ICU\n",
    "\n",
    "covid[, c(\"USMER\", \"MEDICAL_UNIT\", \"PATIENT_TYPE\", \"CLASSIFICATION_FINAL\")] <- NULL\n",
    "\n",
    "write_parquet(covid, \"covidClean100.parquet\")"
>>>>>>> f301f27608087bd6f39fffb6b540948151acf0f9
   ]
  },
  {
   "attachments": {},
   "cell_type": "markdown",
   "metadata": {},
   "source": [
    "---\n",
    "\n",
    "\n",
    "AAAAAAAAAAAAA"
   ]
  }
 ],
 "metadata": {
  "kernelspec": {
   "display_name": "R",
   "language": "R",
   "name": "ir"
  },
  "language_info": {
   "codemirror_mode": "r",
   "file_extension": ".r",
   "mimetype": "text/x-r-source",
   "name": "R",
   "pygments_lexer": "r",
   "version": "4.2.2"
  },
  "orig_nbformat": 4,
  "vscode": {
   "interpreter": {
    "hash": "31f2aee4e71d21fbe5cf8b01ff0e069b9275f58929596ceb00d14d90e3e16cd6"
   }
  }
 },
 "nbformat": 4,
 "nbformat_minor": 2
}
